{
 "cells": [
  {
   "cell_type": "markdown",
   "id": "d3c753c4",
   "metadata": {},
   "source": [
    "<h2 align=\"center\" style=\"color:blue\">Codebasics Python Course: Exercise - Comprehensions, Sets</h2>"
   ]
  },
  {
   "cell_type": "markdown",
   "id": "46bbb5a6-f24e-4f67-9d8d-2ee65a7bdadc",
   "metadata": {},
   "source": [
    "**Loki** shared a few ad-hoc tasks that his team is working on across different projects at **AtliQ**, and now you will be helping him with them.\n",
    "\n",
    "<img src=\"https://files.codebasics.io/55188/avatar/lokhi.png\" width=\"10%\">"
   ]
  },
  {
   "cell_type": "markdown",
   "id": "3fe45535-374e-4d8c-8427-ac690ac0c178",
   "metadata": {},
   "source": [
    "### Task 1: Inventory Analysis for E-Commerce Client\n",
    "\n",
    "**AtliQ**, a service-based software company, is supporting an e-commerce client in analyzing their inventory data. The client wants to gain insights into the range of product categories available in their inventory. Your task, as part of the AtliQ team, is to identify and print all the unique product categories from a list of product records provided.\n",
    "\n",
    "You will be given a dataset containing product details, and your goal is to extract and display the distinct product categories present in the inventory.\n",
    "\n",
    "**Expected Output**\n",
    "\n",
    "\n",
    "Unique Product Categories:\n",
    "\n",
    "- Electronics\n",
    "- Apparel\n",
    "- Home Appliances\n",
    "- Literatureure\r\n"
   ]
  },
  {
   "cell_type": "code",
   "execution_count": 2,
   "id": "a9f1d596",
   "metadata": {},
   "outputs": [],
   "source": [
    "products = [\n",
    "    {\"product_name\": \"Laptop\", \"category\": \"Electronics\", \"price\": 1200},\n",
    "    {\"product_name\": \"Jeans\", \"category\": \"Apparel\", \"price\": 40},\n",
    "    {\"product_name\": \"Coffee Maker\", \"category\": \"Home Appliances\", \"price\": 80},\n",
    "    {\"product_name\": \"Smartphone\", \"category\": \"Electronics\", \"price\": 999},\n",
    "    {\"product_name\": \"Jacket\", \"category\": \"Apparel\", \"price\": 60},\n",
    "    {\"product_name\": \"Blender\", \"category\": \"Home Appliances\", \"price\": 150},\n",
    "    {\"product_name\": \"Book\", \"category\": \"Literature\", \"price\": 15}\n",
    "]"
   ]
  },
  {
   "cell_type": "code",
   "execution_count": 32,
   "id": "5bb1f4bd",
   "metadata": {},
   "outputs": [
    {
     "name": "stdout",
     "output_type": "stream",
     "text": [
      "unique product category:\n",
      "- Apparel\n",
      "- Literature\n",
      "- Electronics\n",
      "- Home Appliances\n"
     ]
    }
   ],
   "source": [
    "# write your code here\n",
    "unique_categories = {product['category'] for product in products}\n",
    "\n",
    "print('unique product category:')\n",
    "for category in unique_categories:\n",
    "    print(f\"- {category}\")"
   ]
  },
  {
   "cell_type": "markdown",
   "id": "845798d2-81c1-47c9-a6ee-780e0407f2c2",
   "metadata": {},
   "source": [
    "### Task 2: Audience Analysis for Music Festival Organizer\n",
    "\n",
    "As the other team got occupied with an urgent task, you have been asked to assist another client on an ad-hoc basis. The client is a music festival organizer looking to optimize event planning and marketing strategies by understanding audience overlap between concerts. \n",
    "\n",
    "Your task is to help analyze the data and:\n",
    "\n",
    "1. Identify unique attendees for each concert.\n",
    "2. Find common attendees across the concerts.\n",
    "\n",
    "The attendee data is provided in the next cell. Use set operations to complete the analysis and print a summary of the results.\n",
    "\n",
    "**Expected Output:**\n",
    "\n",
    "Unique Attendees for Each Concert:\r\n",
    "- Concert A Only: {'Charlie'}\r\n",
    "- Concert B Only: {'Eve'}\r\n",
    "- Concert C Only: {'George', 'Elle'}\r\n",
    "\r\n",
    "Common Attendees Between All Concerts: {'Bob'}\r\n",
    "\n",
    "\n"
   ]
  },
  {
   "cell_type": "code",
   "execution_count": 38,
   "id": "7fc6ca4b",
   "metadata": {},
   "outputs": [],
   "source": [
    "concert_a_attendees = {\"Alice\", \"Bob\", \"Charlie\", \"Diana\"}\n",
    "concert_b_attendees = {\"Bob\", \"Diana\", \"Eve\", \"Frank\"}\n",
    "concert_c_attendees = {\"Alice\", \"George\", \"Elle\", \"Frank\",\"Bob\"}"
   ]
  },
  {
   "cell_type": "code",
   "execution_count": 42,
   "id": "13426f61",
   "metadata": {
    "scrolled": true
   },
   "outputs": [
    {
     "name": "stdout",
     "output_type": "stream",
     "text": [
      "Unique Attendees for Each Concert:\n",
      "- Concert A Only: {'Charlie'}\n",
      "- Concert B Only: {'Eve'}\n",
      "- Concert C Only: {'Elle', 'George'}\n",
      "Common Attendees Between All Concerts: {'Bob'}\n"
     ]
    }
   ],
   "source": [
    "# write your code here\n",
    "unique_a = concert_a_attendees - (concert_b_attendees | concert_c_attendees)\n",
    "unique_b = concert_b_attendees - (concert_c_attendees | concert_a_attendees)\n",
    "unique_c = concert_c_attendees - (concert_a_attendees | concert_b_attendees)\n",
    "\n",
    "common_all = concert_a_attendees & concert_b_attendees & concert_c_attendees\n",
    "\n",
    "print(\"Unique Attendees for Each Concert:\")\n",
    "print(f\"- Concert A Only: {unique_a}\")\n",
    "print(f\"- Concert B Only: {unique_b}\")\n",
    "print(f\"- Concert C Only: {unique_c}\")\n",
    "print(f\"Common Attendees Between All Concerts: {common_all}\")"
   ]
  },
  {
   "cell_type": "markdown",
   "id": "b8fdaa64",
   "metadata": {},
   "source": [
    "### Task 3: Temperature Trend Analysis\n",
    "\n",
    "In this task, you've been assigned to help a client who is analyzing daily temperature records for a month to understand temperature trends. The client is particularly interested in identifying the records when the temperature exceeded **70°F.**\n",
    "\n",
    "Your responsibility is to analyze this dataset and extract the records where the maximum temperature was above 70°F. \n",
    "\n",
    "Display the filtered temperatures.\n",
    "\n",
    "The temperature data is given in the next cell."
   ]
  },
  {
   "cell_type": "code",
   "execution_count": 44,
   "id": "c229a19f",
   "metadata": {},
   "outputs": [],
   "source": [
    "daily_temperatures = [68, 71, 74, 69, 70, 71, 68, 73, 72, 71, 70, 74, 72, 68]"
   ]
  },
  {
   "cell_type": "code",
   "execution_count": 70,
   "id": "0dc59a24",
   "metadata": {},
   "outputs": [
    {
     "data": {
      "text/plain": [
       "[71, 74, 71, 73, 72, 71, 74, 72]"
      ]
     },
     "execution_count": 70,
     "metadata": {},
     "output_type": "execute_result"
    }
   ],
   "source": [
    "# write your code here\n",
    "filtered_temperatures = [temp for temp in daily_temperatures if temp > 70]\n",
    "filtered_temperatures"
   ]
  },
  {
   "cell_type": "markdown",
   "id": "9ffbcb92",
   "metadata": {},
   "source": [
    "### Task 4: Identifying Unique Temperatures\n",
    "\n",
    "The client wants to find all unique temperature values recorded over a month. Your task is to use set comprehension to extract and print the unique temperatures from the dataset."
   ]
  },
  {
   "cell_type": "code",
   "execution_count": 72,
   "id": "2bef5837",
   "metadata": {},
   "outputs": [
    {
     "data": {
      "text/plain": [
       "{71, 72, 73, 74}"
      ]
     },
     "execution_count": 72,
     "metadata": {},
     "output_type": "execute_result"
    }
   ],
   "source": [
    "# write your code here\n",
    "unique_temperatures = {temp for temp in filtered_temperatures}\n",
    "unique_temperatures"
   ]
  },
  {
   "cell_type": "markdown",
   "id": "6107f9b4",
   "metadata": {},
   "source": [
    "### Task 5: Temperature Frequency Analysis\n",
    "\n",
    "Identify how often each temperature was recorded over a month. Your task is to use dictionary comprehension to count and print the occurrences of each temperature in the dataset."
   ]
  },
  {
   "cell_type": "code",
   "execution_count": 74,
   "id": "02f5d27e",
   "metadata": {},
   "outputs": [
    {
     "data": {
      "text/plain": [
       "{72: 2, 73: 1, 74: 2, 71: 3}"
      ]
     },
     "execution_count": 74,
     "metadata": {},
     "output_type": "execute_result"
    }
   ],
   "source": [
    "# write your code here\n",
    "{temp: filtered_temperatures.count(temp) for temp in unique_temperatures}"
   ]
  },
  {
   "cell_type": "markdown",
   "id": "7a66b697",
   "metadata": {},
   "source": [
    "### Task 6: Social Media Engagement Analysis\n",
    "\n",
    "You are tasked with helping a client analyze their social media data to identify trending hashtags and measure user engagement. Specifically, you need to extract posts that have received more than 100 likes. Your task is to filter these posts and store them in a variable called popular_posts."
   ]
  },
  {
   "cell_type": "code",
   "execution_count": 76,
   "id": "5e4eef2f",
   "metadata": {},
   "outputs": [],
   "source": [
    "posts = [\n",
    "    {\"content\": \"Loving the sunny weather today! #sunny #happy\", \"likes\": 120},\n",
    "    {\"content\": \"Nothing beats a beach day. #beachday #sunny\", \"likes\": 350},\n",
    "    {\"content\": \"A rainy day at home. #rainy #lazyday\", \"likes\": 75},\n",
    "    {\"content\": \"Best coffee in town. #coffeelove #morning\", \"likes\": 180},\n",
    "    {\"content\": \"Can't wait for the weekend. #weekend #party\", \"likes\": 90}\n",
    "]"
   ]
  },
  {
   "cell_type": "code",
   "execution_count": 78,
   "id": "e131288d",
   "metadata": {},
   "outputs": [
    {
     "name": "stdout",
     "output_type": "stream",
     "text": [
      "Popular Posts (Likes > 100):\n",
      "- 'Loving the sunny weather today! #sunny #happy'\n",
      "- 'Nothing beats a beach day. #beachday #sunny'\n",
      "- 'Best coffee in town. #coffeelove #morning'\n"
     ]
    }
   ],
   "source": [
    "# write your code here\n",
    "popular_posts = [post['content'] for post in posts if post['likes'] > 100]\n",
    "\n",
    "print(\"Popular Posts (Likes > 100):\")\n",
    "for post in popular_posts:\n",
    "    print(f\"- '{post}'\")"
   ]
  },
  {
   "cell_type": "markdown",
   "id": "ca04d6c8",
   "metadata": {},
   "source": [
    "### Task 7: Unique Hashtag Extraction\n",
    "Building on the previous task, now that you've identified the popular posts, the client wants to understand which hashtags are being used across these posts. Your task is to extract all unique hashtags from the popular posts.\n",
    "\n",
    "The list of popular posts is provided from the previous task.\n",
    "\n",
    "Tip 💡: Use set comprehension to achieve this."
   ]
  },
  {
   "cell_type": "code",
   "execution_count": 80,
   "id": "de31c56e",
   "metadata": {},
   "outputs": [
    {
     "data": {
      "text/plain": [
       "{'#beachday', '#coffeelove', '#happy', '#morning', '#sunny'}"
      ]
     },
     "execution_count": 80,
     "metadata": {},
     "output_type": "execute_result"
    }
   ],
   "source": [
    "# write your code here\n",
    "hashtags = set(tag for post in popular_posts for tag in post.split() if tag.startswith('#'))\n",
    "hashtags"
   ]
  },
  {
   "cell_type": "markdown",
   "id": "eca72892",
   "metadata": {},
   "source": [
    "### Task 8: Hashtag Frequency Analysis\n",
    "\n",
    "In this task, the client wants to understand how frequently each hashtag appears in the popular posts. Your task is to count the occurrences of each hashtag from the popular posts using dictionary comprehension."
   ]
  },
  {
   "cell_type": "code",
   "execution_count": 12,
   "id": "e4f76700",
   "metadata": {},
   "outputs": [],
   "source": [
    "# write your code here\n"
   ]
  }
 ],
 "metadata": {
  "kernelspec": {
   "display_name": "Python 3 (ipykernel)",
   "language": "python",
   "name": "python3"
  },
  "language_info": {
   "codemirror_mode": {
    "name": "ipython",
    "version": 3
   },
   "file_extension": ".py",
   "mimetype": "text/x-python",
   "name": "python",
   "nbconvert_exporter": "python",
   "pygments_lexer": "ipython3",
   "version": "3.12.4"
  }
 },
 "nbformat": 4,
 "nbformat_minor": 5
}
