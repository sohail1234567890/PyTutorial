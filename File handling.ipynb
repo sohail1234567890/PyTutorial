{
 "cells": [
  {
   "cell_type": "code",
   "execution_count": 4,
   "id": "51cd939d-ff9e-4cb9-9601-aed45b697e81",
   "metadata": {},
   "outputs": [
    {
     "name": "stdout",
     "output_type": "stream",
     "text": [
      "Teacher: Why are you late, raghu?\n",
      "\n",
      "Raghu: Because of the sign\n",
      "\n",
      "Teacher: What sign?\n",
      "\n",
      "Raghu: The one that says \"School Ahead, Go slow\"\n"
     ]
    }
   ],
   "source": [
    "f=open('funny.txt',\"r\")\n",
    "\n",
    "for line in f:\n",
    "    print(line)\n",
    "\n",
    "f.close()"
   ]
  },
  {
   "cell_type": "code",
   "execution_count": 6,
   "id": "3d942579-294d-4f07-8a43-a8ae05dbf42c",
   "metadata": {},
   "outputs": [
    {
     "name": "stdout",
     "output_type": "stream",
     "text": [
      "Teacher: Why are you late, raghu?\n",
      "\n",
      "Raghu: Because of the sign\n",
      "\n",
      "Teacher: What sign?\n",
      "\n",
      "Raghu: The one that says \"School Ahead, Go slow\"\n"
     ]
    }
   ],
   "source": [
    "with open('funny.txt', 'r') as f:\n",
    "    for line in f:\n",
    "        print(line)"
   ]
  },
  {
   "cell_type": "code",
   "execution_count": 8,
   "id": "9e264cca-ef20-4fef-b937-51cc9d5aa866",
   "metadata": {},
   "outputs": [],
   "source": [
    "with open('love.txt', 'w') as f:\n",
    "    f.write(\"I love python\\n\")\n",
    "    f.write(\"I love meditation\")"
   ]
  },
  {
   "cell_type": "code",
   "execution_count": 12,
   "id": "23a267b0-3d58-4f47-812c-8cf6cc208a10",
   "metadata": {},
   "outputs": [],
   "source": [
    "with open('love.txt', 'w') as f:\n",
    "    f.write('\\nI love Go-lang\\n')\n",
    "    f.write('I love fruits')"
   ]
  },
  {
   "cell_type": "code",
   "execution_count": 14,
   "id": "eb2743dc-32fb-4892-9d63-b71aecca866e",
   "metadata": {},
   "outputs": [],
   "source": [
    "with open('love.txt', 'w') as f:\n",
    "    f.writelines([\n",
    "        'I love C++\\n',\n",
    "        'I love scala'\n",
    "    ])"
   ]
  },
  {
   "cell_type": "code",
   "execution_count": 20,
   "id": "04a23be1-7c8c-424f-b28f-fbb3505eb8af",
   "metadata": {},
   "outputs": [
    {
     "ename": "TypeError",
     "evalue": "'tuple' object does not support item assignment",
     "output_type": "error",
     "traceback": [
      "\u001b[1;31m---------------------------------------------------------------------------\u001b[0m",
      "\u001b[1;31mTypeError\u001b[0m                                 Traceback (most recent call last)",
      "Cell \u001b[1;32mIn[20], line 2\u001b[0m\n\u001b[0;32m      1\u001b[0m person_info \u001b[38;5;241m=\u001b[39m (\u001b[38;5;124m\"\u001b[39m\u001b[38;5;124mBob Gupta\u001b[39m\u001b[38;5;124m\"\u001b[39m, \u001b[38;5;241m52\u001b[39m, \u001b[38;5;124m\"\u001b[39m\u001b[38;5;124m1 free street mumbai\u001b[39m\u001b[38;5;124m\"\u001b[39m)\n\u001b[1;32m----> 2\u001b[0m person_info[\u001b[38;5;241m1\u001b[39m] \u001b[38;5;241m=\u001b[39m \u001b[38;5;241m54\u001b[39m\n",
      "\u001b[1;31mTypeError\u001b[0m: 'tuple' object does not support item assignment"
     ]
    }
   ],
   "source": [
    "person_info = (\"Bob Gupta\", 52, \"1 free street mumbai\")\n",
    "person_info[1] = 54"
   ]
  },
  {
   "cell_type": "code",
   "execution_count": 24,
   "id": "87670192-3ee8-4306-bb79-74bc176b1e55",
   "metadata": {},
   "outputs": [
    {
     "name": "stdout",
     "output_type": "stream",
     "text": [
      "10\n"
     ]
    }
   ],
   "source": [
    "def check(x):\n",
    "    return x+7\n",
    "print(check(3))"
   ]
  },
  {
   "cell_type": "code",
   "execution_count": null,
   "id": "502be9c7-36c8-413d-bfd6-26fc0d68ef61",
   "metadata": {},
   "outputs": [],
   "source": []
  },
  {
   "cell_type": "code",
   "execution_count": null,
   "id": "dd72c1ac-41c6-435e-997b-edfbc89990c2",
   "metadata": {},
   "outputs": [],
   "source": []
  },
  {
   "cell_type": "code",
   "execution_count": null,
   "id": "b01df70f-ce93-4a94-8a76-18df605e5250",
   "metadata": {},
   "outputs": [],
   "source": []
  }
 ],
 "metadata": {
  "kernelspec": {
   "display_name": "Python 3 (ipykernel)",
   "language": "python",
   "name": "python3"
  },
  "language_info": {
   "codemirror_mode": {
    "name": "ipython",
    "version": 3
   },
   "file_extension": ".py",
   "mimetype": "text/x-python",
   "name": "python",
   "nbconvert_exporter": "python",
   "pygments_lexer": "ipython3",
   "version": "3.12.4"
  }
 },
 "nbformat": 4,
 "nbformat_minor": 5
}
