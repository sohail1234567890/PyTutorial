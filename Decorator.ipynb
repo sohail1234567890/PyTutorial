{
 "cells": [
  {
   "cell_type": "code",
   "execution_count": 10,
   "id": "9623439e-f09f-4a9b-979c-4b0daf7bf8d6",
   "metadata": {},
   "outputs": [],
   "source": [
    "import time\n",
    "\n",
    "def get_square(numbers):\n",
    "    start = time.time()\n",
    "    result = []\n",
    "    for n in numbers:\n",
    "        result.append(n*n)\n",
    "    end = time.time()\n",
    "    print(f'get_square took {(end - start)*1000} mil second')\n",
    "    return result"
   ]
  },
  {
   "cell_type": "code",
   "execution_count": 12,
   "id": "89cedc9c-ea6d-4ca2-9250-95af8019916f",
   "metadata": {},
   "outputs": [],
   "source": [
    "def get_cube(numbers):\n",
    "    start = time.time()\n",
    "    result = []\n",
    "    for n in numbers:\n",
    "        result.append(n*n*n)\n",
    "    end = time.time()\n",
    "    print(f'get_cube took {(end - start)*1000} mil second')\n",
    "    return result"
   ]
  },
  {
   "cell_type": "code",
   "execution_count": 22,
   "id": "e1fec046-a5c6-42a8-aecc-97833652c3a4",
   "metadata": {},
   "outputs": [
    {
     "name": "stdout",
     "output_type": "stream",
     "text": [
      "get_square took 35.90250015258789 mil second\n"
     ]
    }
   ],
   "source": [
    "mylist = [1,2,3,4,5]\n",
    "\n",
    "a =get_square(range(100000))"
   ]
  },
  {
   "cell_type": "code",
   "execution_count": 24,
   "id": "aa6533e1-f8d7-4b7d-9915-c89d2a0a51a2",
   "metadata": {},
   "outputs": [
    {
     "name": "stdout",
     "output_type": "stream",
     "text": [
      "get_cube took 44.18349266052246 mil second\n"
     ]
    }
   ],
   "source": [
    "b=get_cube(range(100000))"
   ]
  },
  {
   "cell_type": "code",
   "execution_count": 36,
   "id": "e555a423-c09c-4669-bcfd-5c1e055c41e0",
   "metadata": {},
   "outputs": [],
   "source": [
    "def timer(func):\n",
    "    def wrapper(*args, **kwargs):\n",
    "        start = time.time()\n",
    "        result = func(*args, **kwargs)\n",
    "        end=time.time()\n",
    "        print(f'Function {func.__name__} took {(end - start)*1000} seconds')\n",
    "        return result\n",
    "    return wrapper"
   ]
  },
  {
   "cell_type": "code",
   "execution_count": 38,
   "id": "20ca8908-c2b7-4eea-b81c-3276582e8121",
   "metadata": {},
   "outputs": [],
   "source": [
    "@timer\n",
    "def get_square(numbers):\n",
    "    result = []\n",
    "    for n in numbers:\n",
    "        result.append(n*n)\n",
    "    return result"
   ]
  },
  {
   "cell_type": "code",
   "execution_count": 40,
   "id": "f2e52f58-4176-4fd4-9d4a-449ee4007a86",
   "metadata": {},
   "outputs": [
    {
     "name": "stdout",
     "output_type": "stream",
     "text": [
      "Function get_square took 23.93484115600586 seconds\n"
     ]
    }
   ],
   "source": [
    "a=get_square(range(100000))"
   ]
  },
  {
   "cell_type": "code",
   "execution_count": 42,
   "id": "9a5d81d1-b6ed-491d-9eac-2a66abcd53c8",
   "metadata": {},
   "outputs": [
    {
     "name": "stdout",
     "output_type": "stream",
     "text": [
      "get_cube took 61.11431121826172 mil second\n"
     ]
    }
   ],
   "source": [
    "b=get_cube(range(100000))"
   ]
  },
  {
   "cell_type": "code",
   "execution_count": null,
   "id": "c6985cb8-5eff-49d9-8e89-af55b7fa54ac",
   "metadata": {},
   "outputs": [],
   "source": []
  },
  {
   "cell_type": "code",
   "execution_count": null,
   "id": "53469a4f-5eab-418e-9715-bd04c0165d91",
   "metadata": {},
   "outputs": [],
   "source": []
  },
  {
   "cell_type": "code",
   "execution_count": null,
   "id": "759cc2db-3f3c-4d02-912f-1a3256f3b611",
   "metadata": {},
   "outputs": [],
   "source": []
  },
  {
   "cell_type": "code",
   "execution_count": null,
   "id": "2253cd85-2b14-431a-8107-4dd7f5b47edc",
   "metadata": {},
   "outputs": [],
   "source": []
  },
  {
   "cell_type": "code",
   "execution_count": null,
   "id": "90ce0402-31e0-465c-b6c8-da1e49dc8877",
   "metadata": {},
   "outputs": [],
   "source": []
  },
  {
   "cell_type": "code",
   "execution_count": null,
   "id": "846f5c63-2ec2-4da3-90b0-62b165ed778d",
   "metadata": {},
   "outputs": [],
   "source": []
  },
  {
   "cell_type": "code",
   "execution_count": null,
   "id": "726f1aae-b6f3-47e2-934b-e7bc9b26652f",
   "metadata": {},
   "outputs": [],
   "source": []
  },
  {
   "cell_type": "code",
   "execution_count": null,
   "id": "b25ee25d-896f-44e1-8dc5-133c09330998",
   "metadata": {},
   "outputs": [],
   "source": []
  },
  {
   "cell_type": "code",
   "execution_count": null,
   "id": "9ead337a-5a3c-4d3c-9f45-f37975375ec1",
   "metadata": {},
   "outputs": [],
   "source": []
  }
 ],
 "metadata": {
  "kernelspec": {
   "display_name": "Python 3 (ipykernel)",
   "language": "python",
   "name": "python3"
  },
  "language_info": {
   "codemirror_mode": {
    "name": "ipython",
    "version": 3
   },
   "file_extension": ".py",
   "mimetype": "text/x-python",
   "name": "python",
   "nbconvert_exporter": "python",
   "pygments_lexer": "ipython3",
   "version": "3.12.4"
  }
 },
 "nbformat": 4,
 "nbformat_minor": 5
}
