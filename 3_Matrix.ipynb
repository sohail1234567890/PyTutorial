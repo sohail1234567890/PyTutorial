{
 "cells": [
  {
   "cell_type": "code",
   "execution_count": 2,
   "id": "1ee0d61e-a86f-4651-b0b9-42fd45b19bfe",
   "metadata": {},
   "outputs": [],
   "source": [
    "import numpy as np"
   ]
  },
  {
   "cell_type": "code",
   "execution_count": 4,
   "id": "83951782-8145-42ec-9cfd-c717b21b7544",
   "metadata": {},
   "outputs": [],
   "source": [
    "# sales data for Quarter 1 (Matrix 1)\n",
    "# Rows represent different products, columns represent diffferent regions\n",
    "\n",
    "q1 = np.array([\n",
    "    [200, 220, 250],    # product A\n",
    "    [150, 180, 210],    # Product B\n",
    "    [300, 330, 360]     # Product C\n",
    "])\n",
    "\n",
    "q2 = np.array([\n",
    "    [209, 231, 259],    # product A\n",
    "    [155, 192, 222],    # Product B\n",
    "    [310, 340, 375]     # Product C\n",
    "])"
   ]
  },
  {
   "cell_type": "code",
   "execution_count": 6,
   "id": "9636ca9e-ceb1-4fb9-85d1-d17867eab1ce",
   "metadata": {},
   "outputs": [
    {
     "data": {
      "text/plain": [
       "array([[409, 451, 509],\n",
       "       [305, 372, 432],\n",
       "       [610, 670, 735]])"
      ]
     },
     "execution_count": 6,
     "metadata": {},
     "output_type": "execute_result"
    }
   ],
   "source": [
    "q1 + q2"
   ]
  },
  {
   "cell_type": "code",
   "execution_count": 8,
   "id": "3667a870-bb23-4067-9d42-77dd94a5e03b",
   "metadata": {},
   "outputs": [
    {
     "data": {
      "text/plain": [
       "array([[ 9, 11,  9],\n",
       "       [ 5, 12, 12],\n",
       "       [10, 10, 15]])"
      ]
     },
     "execution_count": 8,
     "metadata": {},
     "output_type": "execute_result"
    }
   ],
   "source": [
    "q2 -q1"
   ]
  },
  {
   "cell_type": "code",
   "execution_count": 10,
   "id": "71b765e5-ec8a-4373-92a8-2647dcc08787",
   "metadata": {},
   "outputs": [
    {
     "data": {
      "text/plain": [
       "array([[4.5       , 5.        , 3.6       ],\n",
       "       [3.33333333, 6.66666667, 5.71428571],\n",
       "       [3.33333333, 3.03030303, 4.16666667]])"
      ]
     },
     "execution_count": 10,
     "metadata": {},
     "output_type": "execute_result"
    }
   ],
   "source": [
    "(q2-q1)*100/q1"
   ]
  },
  {
   "cell_type": "code",
   "execution_count": 15,
   "id": "e52e405e-4479-43b2-be26-a2896b717517",
   "metadata": {},
   "outputs": [
    {
     "data": {
      "text/plain": [
       "array([[2000, 2640, 2750],\n",
       "       [1200, 1620, 2100],\n",
       "       [4500, 5280, 6120]])"
      ]
     },
     "execution_count": 15,
     "metadata": {},
     "output_type": "execute_result"
    }
   ],
   "source": [
    "prices = np.array([\n",
    "    [10, 12, 11],    # Prices for product A in different regions\n",
    "    [8,  9,  10],    # Prices for product B\n",
    "    [15, 16, 17]     # Prices for Product C\n",
    "])\n",
    "\n",
    "q1_revenue = q1 * prices\n",
    "q1_revenue"
   ]
  },
  {
   "cell_type": "code",
   "execution_count": 19,
   "id": "d5ab0377-63c1-4421-bcba-677c07e588f3",
   "metadata": {},
   "outputs": [
    {
     "data": {
      "text/plain": [
       "array([[ 400.,  528.,  550.],\n",
       "       [ 240.,  324.,  420.],\n",
       "       [ 900., 1056., 1224.]])"
      ]
     },
     "execution_count": 19,
     "metadata": {},
     "output_type": "execute_result"
    }
   ],
   "source": [
    "q1_discounts = q1_revenue*0.2\n",
    "q1_discounts"
   ]
  },
  {
   "cell_type": "code",
   "execution_count": 21,
   "id": "71624391-cbb8-490f-9e9e-f26e05f8aaee",
   "metadata": {},
   "outputs": [
    {
     "data": {
      "text/plain": [
       "array([[1600., 2112., 2200.],\n",
       "       [ 960., 1296., 1680.],\n",
       "       [3600., 4224., 4896.]])"
      ]
     },
     "execution_count": 21,
     "metadata": {},
     "output_type": "execute_result"
    }
   ],
   "source": [
    "net_revenue = q1_revenue - q1_discounts\n",
    "net_revenue"
   ]
  },
  {
   "cell_type": "code",
   "execution_count": 23,
   "id": "06d77198-bf13-4340-bc4a-d797f8143273",
   "metadata": {},
   "outputs": [
    {
     "data": {
      "text/plain": [
       "22568.0"
      ]
     },
     "execution_count": 23,
     "metadata": {},
     "output_type": "execute_result"
    }
   ],
   "source": [
    "np.sum(net_revenue)\n"
   ]
  },
  {
   "cell_type": "code",
   "execution_count": 27,
   "id": "7eae79f2-8ead-4f88-94f4-6caffbc15b4c",
   "metadata": {},
   "outputs": [
    {
     "data": {
      "text/plain": [
       "array([450000, 370000])"
      ]
     },
     "execution_count": 27,
     "metadata": {},
     "output_type": "execute_result"
    }
   ],
   "source": [
    "features  = np.array([\n",
    "    [2000, 3],  # house 1\n",
    "    [1800, 2]\n",
    "])\n",
    "\n",
    "weights = np.array([150, 50000])\n",
    "\n",
    "np.dot(features, weights)"
   ]
  },
  {
   "cell_type": "code",
   "execution_count": 29,
   "id": "c19007c0-df01-4409-ae48-b67754896378",
   "metadata": {},
   "outputs": [
    {
     "data": {
      "text/plain": [
       "array([-3,  6, -3])"
      ]
     },
     "execution_count": 29,
     "metadata": {},
     "output_type": "execute_result"
    }
   ],
   "source": [
    "c = np.array([1,2,3])\n",
    "d = np.array([4,5,6]) \n",
    "\n",
    "np.cross(c,d)"
   ]
  },
  {
   "cell_type": "code",
   "execution_count": null,
   "id": "6ac0c6b3-01bb-48b9-afd7-22324ae6f2e3",
   "metadata": {},
   "outputs": [],
   "source": []
  }
 ],
 "metadata": {
  "kernelspec": {
   "display_name": "Python 3 (ipykernel)",
   "language": "python",
   "name": "python3"
  },
  "language_info": {
   "codemirror_mode": {
    "name": "ipython",
    "version": 3
   },
   "file_extension": ".py",
   "mimetype": "text/x-python",
   "name": "python",
   "nbconvert_exporter": "python",
   "pygments_lexer": "ipython3",
   "version": "3.12.4"
  }
 },
 "nbformat": 4,
 "nbformat_minor": 5
}
