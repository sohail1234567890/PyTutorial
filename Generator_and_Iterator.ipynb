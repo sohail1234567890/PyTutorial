{
 "cells": [
  {
   "cell_type": "code",
   "execution_count": 8,
   "id": "11c48253-19cb-4f55-9e6d-5d7666b8e53c",
   "metadata": {},
   "outputs": [
    {
     "data": {
      "text/plain": [
       "[{'ticker': 'MSFT', 'country': 'BRA', 'price': 381.26, 'date': '2023-10-27'},\n",
       " {'ticker': 'CSCO', 'country': 'USA', 'price': 187.64, 'date': '2023-02-12'}]"
      ]
     },
     "execution_count": 8,
     "metadata": {},
     "output_type": "execute_result"
    }
   ],
   "source": [
    "prices = []\n",
    "\n",
    "with open('pricing.txt','r') as f:\n",
    "    for line in f:\n",
    "        ticker, country, price, date = line.split('|')\n",
    "        prices.append({\n",
    "            'ticker': ticker,\n",
    "            'country': country,\n",
    "            'price': float(price),\n",
    "            'date': date.strip()\n",
    "        })\n",
    "prices[:2]"
   ]
  },
  {
   "cell_type": "code",
   "execution_count": 10,
   "id": "312890a7-1362-496f-8109-c68f3a1f316a",
   "metadata": {},
   "outputs": [
    {
     "data": {
      "text/plain": [
       "<_io.TextIOWrapper name='pricing.txt' mode='r' encoding='cp1252'>"
      ]
     },
     "execution_count": 10,
     "metadata": {},
     "output_type": "execute_result"
    }
   ],
   "source": [
    "f = open('pricing.txt','r')\n",
    "\n",
    "iterator = iter(f)\n",
    "iterator"
   ]
  },
  {
   "cell_type": "code",
   "execution_count": 12,
   "id": "9c3b20f9-55f3-4de1-90d7-3cfbbad1c074",
   "metadata": {},
   "outputs": [
    {
     "data": {
      "text/plain": [
       "'MSFT|BRA|381.26|2023-10-27\\n'"
      ]
     },
     "execution_count": 12,
     "metadata": {},
     "output_type": "execute_result"
    }
   ],
   "source": [
    "next(iterator)"
   ]
  },
  {
   "cell_type": "code",
   "execution_count": 14,
   "id": "c43453cd-3ba5-47f3-b6da-4fb7fed97a2f",
   "metadata": {},
   "outputs": [
    {
     "data": {
      "text/plain": [
       "'CSCO|USA|187.64|2023-02-12\\n'"
      ]
     },
     "execution_count": 14,
     "metadata": {},
     "output_type": "execute_result"
    }
   ],
   "source": [
    "next(iterator)"
   ]
  },
  {
   "cell_type": "code",
   "execution_count": null,
   "id": "c1edf97d-441d-40af-9e8f-90f158674528",
   "metadata": {},
   "outputs": [],
   "source": []
  },
  {
   "cell_type": "code",
   "execution_count": 16,
   "id": "5880cca2-6c0a-4360-bef8-8313042004ed",
   "metadata": {},
   "outputs": [],
   "source": [
    "class RemoteControl:\n",
    "    def __init__(self):\n",
    "        self.channels = ['NDTV', 'CNN', 'HBO']\n",
    "        self.index = -1\n",
    "\n",
    "    def __next__(self):\n",
    "        self.index += 1\n",
    "        if self.index == len(self.channels):\n",
    "            raise StopIteration\n",
    "\n",
    "        return self.channels[self.index]\n",
    "\n",
    "    def __iter__(self):\n",
    "        return self"
   ]
  },
  {
   "cell_type": "code",
   "execution_count": 20,
   "id": "e5571412-961a-41cd-95ac-bc346cc0b680",
   "metadata": {},
   "outputs": [
    {
     "name": "stdout",
     "output_type": "stream",
     "text": [
      "NDTV\n",
      "CNN\n",
      "HBO\n"
     ]
    }
   ],
   "source": [
    "rc =RemoteControl()\n",
    "for channel in rc:\n",
    "    print(channel)"
   ]
  },
  {
   "cell_type": "code",
   "execution_count": 22,
   "id": "068b71ee-81e9-4687-a6d5-2144306086ce",
   "metadata": {},
   "outputs": [
    {
     "data": {
      "text/plain": [
       "'NDTV'"
      ]
     },
     "execution_count": 22,
     "metadata": {},
     "output_type": "execute_result"
    }
   ],
   "source": [
    "rc =RemoteControl()\n",
    "next(rc)"
   ]
  },
  {
   "cell_type": "code",
   "execution_count": 24,
   "id": "64b8a2ac-7859-4bed-9e9e-14eef2755ca1",
   "metadata": {},
   "outputs": [
    {
     "data": {
      "text/plain": [
       "'CNN'"
      ]
     },
     "execution_count": 24,
     "metadata": {},
     "output_type": "execute_result"
    }
   ],
   "source": [
    "next(rc)"
   ]
  },
  {
   "cell_type": "code",
   "execution_count": 26,
   "id": "4df217df-4d3c-4a23-a937-c56352a64572",
   "metadata": {},
   "outputs": [
    {
     "data": {
      "text/plain": [
       "'HBO'"
      ]
     },
     "execution_count": 26,
     "metadata": {},
     "output_type": "execute_result"
    }
   ],
   "source": [
    "next(rc)"
   ]
  },
  {
   "cell_type": "code",
   "execution_count": 28,
   "id": "a10d2418-0383-40ca-9354-61e354289cc0",
   "metadata": {},
   "outputs": [
    {
     "ename": "StopIteration",
     "evalue": "",
     "output_type": "error",
     "traceback": [
      "\u001b[1;31m---------------------------------------------------------------------------\u001b[0m",
      "\u001b[1;31mStopIteration\u001b[0m                             Traceback (most recent call last)",
      "Cell \u001b[1;32mIn[28], line 1\u001b[0m\n\u001b[1;32m----> 1\u001b[0m \u001b[38;5;28mnext\u001b[39m(rc)\n",
      "Cell \u001b[1;32mIn[16], line 9\u001b[0m, in \u001b[0;36mRemoteControl.__next__\u001b[1;34m(self)\u001b[0m\n\u001b[0;32m      7\u001b[0m \u001b[38;5;28mself\u001b[39m\u001b[38;5;241m.\u001b[39mindex \u001b[38;5;241m+\u001b[39m\u001b[38;5;241m=\u001b[39m \u001b[38;5;241m1\u001b[39m\n\u001b[0;32m      8\u001b[0m \u001b[38;5;28;01mif\u001b[39;00m \u001b[38;5;28mself\u001b[39m\u001b[38;5;241m.\u001b[39mindex \u001b[38;5;241m==\u001b[39m \u001b[38;5;28mlen\u001b[39m(\u001b[38;5;28mself\u001b[39m\u001b[38;5;241m.\u001b[39mchannels):\n\u001b[1;32m----> 9\u001b[0m     \u001b[38;5;28;01mraise\u001b[39;00m \u001b[38;5;167;01mStopIteration\u001b[39;00m\n\u001b[0;32m     11\u001b[0m \u001b[38;5;28;01mreturn\u001b[39;00m \u001b[38;5;28mself\u001b[39m\u001b[38;5;241m.\u001b[39mchannels[\u001b[38;5;28mself\u001b[39m\u001b[38;5;241m.\u001b[39mindex]\n",
      "\u001b[1;31mStopIteration\u001b[0m: "
     ]
    }
   ],
   "source": [
    "next(rc)"
   ]
  },
  {
   "cell_type": "code",
   "execution_count": 32,
   "id": "6bb1f5b4-faa2-4f46-843e-60a1c9d248ae",
   "metadata": {},
   "outputs": [],
   "source": [
    "def remote_control():\n",
    "    yield 'NDTV'\n",
    "    yield 'CNN'\n",
    "    yield 'ESPN'"
   ]
  },
  {
   "cell_type": "code",
   "execution_count": 34,
   "id": "884bd845-a518-413f-9972-6bad7538f6e2",
   "metadata": {},
   "outputs": [
    {
     "data": {
      "text/plain": [
       "generator"
      ]
     },
     "execution_count": 34,
     "metadata": {},
     "output_type": "execute_result"
    }
   ],
   "source": [
    "rc = remote_control()\n",
    "type(rc)"
   ]
  },
  {
   "cell_type": "code",
   "execution_count": 36,
   "id": "a5add50a-5676-4d68-a9e4-01c519e424a6",
   "metadata": {},
   "outputs": [
    {
     "name": "stdout",
     "output_type": "stream",
     "text": [
      "NDTV\n",
      "CNN\n",
      "ESPN\n"
     ]
    }
   ],
   "source": [
    "for channel in rc:\n",
    "    print(channel)"
   ]
  },
  {
   "cell_type": "code",
   "execution_count": 40,
   "id": "f625766c-f82c-469e-8899-b365ad2921b1",
   "metadata": {},
   "outputs": [
    {
     "data": {
      "text/plain": [
       "'NDTV'"
      ]
     },
     "execution_count": 40,
     "metadata": {},
     "output_type": "execute_result"
    }
   ],
   "source": [
    "rc = remote_control()\n",
    "next(rc)"
   ]
  },
  {
   "cell_type": "code",
   "execution_count": 42,
   "id": "e4ddd230-c789-4885-92a8-d0e076be5f8a",
   "metadata": {},
   "outputs": [
    {
     "data": {
      "text/plain": [
       "'CNN'"
      ]
     },
     "execution_count": 42,
     "metadata": {},
     "output_type": "execute_result"
    }
   ],
   "source": [
    "next(rc)"
   ]
  },
  {
   "cell_type": "code",
   "execution_count": 44,
   "id": "d2e00826-f958-4131-9ce2-08fe91badbe8",
   "metadata": {},
   "outputs": [
    {
     "data": {
      "text/plain": [
       "'ESPN'"
      ]
     },
     "execution_count": 44,
     "metadata": {},
     "output_type": "execute_result"
    }
   ],
   "source": [
    "next(rc)"
   ]
  },
  {
   "cell_type": "code",
   "execution_count": 46,
   "id": "2a226aea-9ac3-454b-a102-4a74992f648a",
   "metadata": {},
   "outputs": [
    {
     "ename": "StopIteration",
     "evalue": "",
     "output_type": "error",
     "traceback": [
      "\u001b[1;31m---------------------------------------------------------------------------\u001b[0m",
      "\u001b[1;31mStopIteration\u001b[0m                             Traceback (most recent call last)",
      "Cell \u001b[1;32mIn[46], line 1\u001b[0m\n\u001b[1;32m----> 1\u001b[0m \u001b[38;5;28mnext\u001b[39m(rc)\n",
      "\u001b[1;31mStopIteration\u001b[0m: "
     ]
    }
   ],
   "source": [
    "next(rc)"
   ]
  },
  {
   "cell_type": "code",
   "execution_count": 48,
   "id": "2dc7da46-14e7-4946-8a76-2b0b8a20d4a2",
   "metadata": {},
   "outputs": [],
   "source": [
    "def get_company_data():\n",
    "    data = []\n",
    "    for i in range(3):\n",
    "        with open(f'stock_{i+1}.txt', 'r') as f:\n",
    "            content = f.read()\n",
    "            data.append(content)\n",
    "        return data"
   ]
  },
  {
   "cell_type": "code",
   "execution_count": 50,
   "id": "bd9eff63-9932-437c-9dda-38dd20699192",
   "metadata": {},
   "outputs": [
    {
     "data": {
      "text/plain": [
       "['{\\n    \"ticker\": \"AAPL\",\\n    \"price\": 227.67,\\n    \"date\": \"2024-08-28\",\\n    \"pe\": 23.4,\\n    \"market_cap\": 2410000000000.0,\\n    \"dividend_yield\": 0.6,\\n    \"price_to_book\": 31.8,\\n    \"dps\": 0.92,\\n    \"ebitda\": 94680000000.0,\\n    \"price_to_sales\": 7.3,\\n    \"earnings_per_share\": 9.73,\\n    \"revenue\": 387530000000.0,\\n    \"gross_margin\": 43.3,\\n    \"net_profit_margin\": 25.9,\\n    \"debt_to_equity\": 1.8,\\n    \"cash_flow\": 104300000000.0,\\n    \"operating_margin\": 30.2\\n}']"
      ]
     },
     "execution_count": 50,
     "metadata": {},
     "output_type": "execute_result"
    }
   ],
   "source": [
    "get_company_data()"
   ]
  },
  {
   "cell_type": "code",
   "execution_count": 52,
   "id": "a178bfed-5314-49af-b275-d1d57f42c9bc",
   "metadata": {},
   "outputs": [],
   "source": [
    "def get_company_data():\n",
    "    data = []\n",
    "    for i in range(3):\n",
    "        with open(f'stock_{i+1}.txt', 'r') as f:\n",
    "            content = f.read()\n",
    "            yield content"
   ]
  },
  {
   "cell_type": "code",
   "execution_count": 54,
   "id": "e8fc63e3-9480-4b02-b5f2-6cf4d76cef61",
   "metadata": {},
   "outputs": [
    {
     "name": "stdout",
     "output_type": "stream",
     "text": [
      "{\n",
      "    \"ticker\": \"AAPL\",\n",
      "    \"price\": 227.67,\n",
      "    \"date\": \"2024-08-28\",\n",
      "    \"pe\": 23.4,\n",
      "    \"market_cap\": 2410000000000.0,\n",
      "    \"dividend_yield\": 0.6,\n",
      "    \"price_to_book\": 31.8,\n",
      "    \"dps\": 0.92,\n",
      "    \"ebitda\": 94680000000.0,\n",
      "    \"price_to_sales\": 7.3,\n",
      "    \"earnings_per_share\": 9.73,\n",
      "    \"revenue\": 387530000000.0,\n",
      "    \"gross_margin\": 43.3,\n",
      "    \"net_profit_margin\": 25.9,\n",
      "    \"debt_to_equity\": 1.8,\n",
      "    \"cash_flow\": 104300000000.0,\n",
      "    \"operating_margin\": 30.2\n",
      "}\n",
      "{\n",
      "    \"ticker\": \"RIL\",\n",
      "    \"price\": 2589.75,\n",
      "    \"date\": \"2024-08-28\",\n",
      "    \"pe\": 26.7,\n",
      "    \"market_cap\": 1950000000000.0,\n",
      "    \"dividend_yield\": 0.8,\n",
      "    \"price_to_book\": 2.9,\n",
      "    \"dps\": 15.0,\n",
      "    \"ebitda\": 1100000000000.0,\n",
      "    \"price_to_sales\": 1.5,\n",
      "    \"earnings_per_share\": 97.5,\n",
      "    \"revenue\": 6800000000000.0,\n",
      "    \"gross_margin\": 20.4,\n",
      "    \"net_profit_margin\": 6.3,\n",
      "    \"debt_to_equity\": 0.4,\n",
      "    \"cash_flow\": 820500000000.0\n",
      "}\n",
      "\n",
      "{\n",
      "    \"ticker\": \"NVDA\",\n",
      "    \"price\": 492.21,\n",
      "    \"date\": \"2024-08-28\",\n",
      "    \"pe\": 45.3,\n",
      "    \"market_cap\": 1230000000000.0,\n",
      "    \"dividend_yield\": 0.07,\n",
      "    \"price_to_book\": 23.5,\n",
      "    \"dps\": 0.16,\n",
      "    \"ebitda\": 16400000000.0,\n",
      "    \"price_to_sales\": 17.6,\n",
      "    \"earnings_per_share\": 10.85,\n",
      "    \"revenue\": 26900000000.0,\n",
      "    \"gross_margin\": 64.1,\n",
      "    \"net_profit_margin\": 36.2,\n",
      "    \"debt_to_equity\": 0.5,\n",
      "    \"cash_flow\": 9100000000.0,\n",
      "    \"operating_margin\": 40.8\n",
      "}\n",
      "\n"
     ]
    }
   ],
   "source": [
    "for company_data in get_company_data():\n",
    "    print(company_data)"
   ]
  },
  {
   "cell_type": "code",
   "execution_count": 56,
   "id": "fb1ad074-1c5d-4368-a08a-ff501bd32900",
   "metadata": {},
   "outputs": [],
   "source": [
    "def fibnacci():\n",
    "    a, b = 0, 1\n",
    "    while True:\n",
    "        yield a\n",
    "        a, b =b, a+b"
   ]
  },
  {
   "cell_type": "code",
   "execution_count": null,
   "id": "ca3b5b1b-f430-4e6a-b5e1-ab11145e45de",
   "metadata": {},
   "outputs": [],
   "source": [
    "fib_gen = fibonacci()\n",
    "\n",
    "for num in "
   ]
  }
 ],
 "metadata": {
  "kernelspec": {
   "display_name": "Python 3 (ipykernel)",
   "language": "python",
   "name": "python3"
  },
  "language_info": {
   "codemirror_mode": {
    "name": "ipython",
    "version": 3
   },
   "file_extension": ".py",
   "mimetype": "text/x-python",
   "name": "python",
   "nbconvert_exporter": "python",
   "pygments_lexer": "ipython3",
   "version": "3.12.4"
  }
 },
 "nbformat": 4,
 "nbformat_minor": 5
}
