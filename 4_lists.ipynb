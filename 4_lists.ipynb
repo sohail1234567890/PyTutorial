{
 "cells": [
  {
   "cell_type": "code",
   "execution_count": 2,
   "id": "6c3095a7-8028-4b4e-b0b8-105363d33b67",
   "metadata": {},
   "outputs": [
    {
     "data": {
      "text/plain": [
       "['bread', 'pasta', 'fruits', 'veggies']"
      ]
     },
     "execution_count": 2,
     "metadata": {},
     "output_type": "execute_result"
    }
   ],
   "source": [
    "items = ['bread','pasta','fruits','veggies']\n",
    "items"
   ]
  },
  {
   "cell_type": "code",
   "execution_count": 4,
   "id": "ccb48559-751e-42f3-941e-c36b843c36ec",
   "metadata": {},
   "outputs": [
    {
     "data": {
      "text/plain": [
       "'fruits'"
      ]
     },
     "execution_count": 4,
     "metadata": {},
     "output_type": "execute_result"
    }
   ],
   "source": [
    "items[2]"
   ]
  },
  {
   "cell_type": "code",
   "execution_count": 6,
   "id": "05fabb6f-dbc2-4fea-a4c4-059320238f4a",
   "metadata": {},
   "outputs": [
    {
     "data": {
      "text/plain": [
       "'veggies'"
      ]
     },
     "execution_count": 6,
     "metadata": {},
     "output_type": "execute_result"
    }
   ],
   "source": [
    "items[-1]"
   ]
  },
  {
   "cell_type": "code",
   "execution_count": 8,
   "id": "222a9a12-8b70-4625-a1f5-a613162529fe",
   "metadata": {},
   "outputs": [
    {
     "data": {
      "text/plain": [
       "['bread', 'pasta']"
      ]
     },
     "execution_count": 8,
     "metadata": {},
     "output_type": "execute_result"
    }
   ],
   "source": [
    "items[0:2]"
   ]
  },
  {
   "cell_type": "code",
   "execution_count": 10,
   "id": "99f37581-5f88-43ec-85ac-ee85809a9fa8",
   "metadata": {},
   "outputs": [
    {
     "data": {
      "text/plain": [
       "['bread', 'pasta', 'fruits', 'veggies', 'butter']"
      ]
     },
     "execution_count": 10,
     "metadata": {},
     "output_type": "execute_result"
    }
   ],
   "source": [
    "items.append('butter')\n",
    "items"
   ]
  },
  {
   "cell_type": "code",
   "execution_count": 12,
   "id": "21526be1-94b3-4d4a-9cff-f3c3d1e8d77c",
   "metadata": {},
   "outputs": [
    {
     "data": {
      "text/plain": [
       "['bread', 'pasta', 'fruits', 'veggies']"
      ]
     },
     "execution_count": 12,
     "metadata": {},
     "output_type": "execute_result"
    }
   ],
   "source": [
    "items.remove('butter')\n",
    "items"
   ]
  },
  {
   "cell_type": "code",
   "execution_count": 14,
   "id": "5641d10f-0687-4e97-a090-55cfcdd83d1d",
   "metadata": {},
   "outputs": [
    {
     "data": {
      "text/plain": [
       "['bread', 'butter', 'pasta', 'fruits', 'veggies']"
      ]
     },
     "execution_count": 14,
     "metadata": {},
     "output_type": "execute_result"
    }
   ],
   "source": [
    "items.insert(1,'butter')\n",
    "items"
   ]
  },
  {
   "cell_type": "code",
   "execution_count": 16,
   "id": "407afbd8-4e62-4207-80f7-e6d7fc174033",
   "metadata": {},
   "outputs": [],
   "source": [
    "items[1] = 'cheese'"
   ]
  },
  {
   "cell_type": "code",
   "execution_count": 18,
   "id": "aaa1b360-9e7f-4c02-879d-3252e95e07c0",
   "metadata": {},
   "outputs": [
    {
     "data": {
      "text/plain": [
       "['bread', 'cheese', 'pasta', 'fruits', 'veggies']"
      ]
     },
     "execution_count": 18,
     "metadata": {},
     "output_type": "execute_result"
    }
   ],
   "source": [
    "items"
   ]
  },
  {
   "cell_type": "code",
   "execution_count": 20,
   "id": "eaef5859-881a-45fd-a709-c5a3d7554d87",
   "metadata": {},
   "outputs": [
    {
     "data": {
      "text/plain": [
       "['bread', 'cheese', 'pasta', 'almonds']"
      ]
     },
     "execution_count": 20,
     "metadata": {},
     "output_type": "execute_result"
    }
   ],
   "source": [
    "items[3:]=['almonds']\n",
    "items"
   ]
  },
  {
   "cell_type": "code",
   "execution_count": 22,
   "id": "6ed82a98-1612-4142-8e9a-b81233a49f41",
   "metadata": {},
   "outputs": [
    {
     "data": {
      "text/plain": [
       "False"
      ]
     },
     "execution_count": 22,
     "metadata": {},
     "output_type": "execute_result"
    }
   ],
   "source": [
    "'rice' in items"
   ]
  },
  {
   "cell_type": "code",
   "execution_count": 24,
   "id": "6756bb23-521d-474d-8b7d-ae843656d744",
   "metadata": {},
   "outputs": [
    {
     "data": {
      "text/plain": [
       "True"
      ]
     },
     "execution_count": 24,
     "metadata": {},
     "output_type": "execute_result"
    }
   ],
   "source": [
    "'bread' in items"
   ]
  },
  {
   "cell_type": "code",
   "execution_count": 26,
   "id": "ece36148-0cf8-4e09-a99f-e4703ed7f241",
   "metadata": {},
   "outputs": [
    {
     "data": {
      "text/plain": [
       "[30, 45, 300, 1200]"
      ]
     },
     "execution_count": 26,
     "metadata": {},
     "output_type": "execute_result"
    }
   ],
   "source": [
    "expenses = [30,1200,45,300]\n",
    "expenses.sort()\n",
    "expenses"
   ]
  },
  {
   "cell_type": "code",
   "execution_count": 28,
   "id": "7334ac72-2f8a-41c5-936e-7c3367893a61",
   "metadata": {},
   "outputs": [
    {
     "data": {
      "text/plain": [
       "[1200, 300, 45, 30]"
      ]
     },
     "execution_count": 28,
     "metadata": {},
     "output_type": "execute_result"
    }
   ],
   "source": [
    "expenses = [30,1200,45,300]\n",
    "expenses.sort(reverse=True)\n",
    "expenses"
   ]
  },
  {
   "cell_type": "code",
   "execution_count": 43,
   "id": "d6e997dd-e89b-41d1-97e6-a64d25c3dec9",
   "metadata": {},
   "outputs": [],
   "source": [
    "food_items=['breads','pasta','fruits']\n",
    "bathroom_items=['shampoo','soap']"
   ]
  },
  {
   "cell_type": "code",
   "execution_count": 45,
   "id": "2063c001-9588-497b-be0f-3c1f9f68f377",
   "metadata": {},
   "outputs": [
    {
     "data": {
      "text/plain": [
       "['breads', 'pasta', 'fruits', 'shampoo', 'soap']"
      ]
     },
     "execution_count": 45,
     "metadata": {},
     "output_type": "execute_result"
    }
   ],
   "source": [
    "items = food_items + bathroom_items\n",
    "items"
   ]
  },
  {
   "cell_type": "code",
   "execution_count": 47,
   "id": "795ca48a-6308-46ff-9f37-f96260048fde",
   "metadata": {},
   "outputs": [
    {
     "data": {
      "text/plain": [
       "5"
      ]
     },
     "execution_count": 47,
     "metadata": {},
     "output_type": "execute_result"
    }
   ],
   "source": [
    "len(items)"
   ]
  },
  {
   "cell_type": "code",
   "execution_count": 49,
   "id": "eb020962-e6f0-42db-81f7-dca7a4472863",
   "metadata": {},
   "outputs": [
    {
     "data": {
      "text/plain": [
       "['__add__',\n",
       " '__class__',\n",
       " '__class_getitem__',\n",
       " '__contains__',\n",
       " '__delattr__',\n",
       " '__delitem__',\n",
       " '__dir__',\n",
       " '__doc__',\n",
       " '__eq__',\n",
       " '__format__',\n",
       " '__ge__',\n",
       " '__getattribute__',\n",
       " '__getitem__',\n",
       " '__getstate__',\n",
       " '__gt__',\n",
       " '__hash__',\n",
       " '__iadd__',\n",
       " '__imul__',\n",
       " '__init__',\n",
       " '__init_subclass__',\n",
       " '__iter__',\n",
       " '__le__',\n",
       " '__len__',\n",
       " '__lt__',\n",
       " '__mul__',\n",
       " '__ne__',\n",
       " '__new__',\n",
       " '__reduce__',\n",
       " '__reduce_ex__',\n",
       " '__repr__',\n",
       " '__reversed__',\n",
       " '__rmul__',\n",
       " '__setattr__',\n",
       " '__setitem__',\n",
       " '__sizeof__',\n",
       " '__str__',\n",
       " '__subclasshook__',\n",
       " 'append',\n",
       " 'clear',\n",
       " 'copy',\n",
       " 'count',\n",
       " 'extend',\n",
       " 'index',\n",
       " 'insert',\n",
       " 'pop',\n",
       " 'remove',\n",
       " 'reverse',\n",
       " 'sort']"
      ]
     },
     "execution_count": 49,
     "metadata": {},
     "output_type": "execute_result"
    }
   ],
   "source": [
    "dir(items)"
   ]
  },
  {
   "cell_type": "code",
   "execution_count": 53,
   "id": "6dce02e2-764c-43f8-a0ef-20b5b710ce74",
   "metadata": {},
   "outputs": [
    {
     "data": {
      "text/plain": [
       "[]"
      ]
     },
     "execution_count": 53,
     "metadata": {},
     "output_type": "execute_result"
    }
   ],
   "source": [
    "items.clear()\n",
    "items"
   ]
  },
  {
   "cell_type": "code",
   "execution_count": 55,
   "id": "d60bbc85-f7ff-484a-be75-d9b4a4cab549",
   "metadata": {},
   "outputs": [
    {
     "data": {
      "text/plain": [
       "['car', 4.5, True]"
      ]
     },
     "execution_count": 55,
     "metadata": {},
     "output_type": "execute_result"
    }
   ],
   "source": [
    "random = ['car', 4.5, True]\n",
    "random"
   ]
  },
  {
   "cell_type": "code",
   "execution_count": null,
   "id": "035ca57d-70d6-4bf7-9efa-4f46bcac6462",
   "metadata": {},
   "outputs": [],
   "source": []
  },
  {
   "cell_type": "code",
   "execution_count": null,
   "id": "3a63bbc4-f3ae-4535-987c-736e38407b8b",
   "metadata": {},
   "outputs": [],
   "source": []
  },
  {
   "cell_type": "code",
   "execution_count": null,
   "id": "565a1f3e-6bbb-47b2-a1f5-e636f98b1caa",
   "metadata": {},
   "outputs": [],
   "source": []
  },
  {
   "cell_type": "code",
   "execution_count": null,
   "id": "ffa024ec-a452-47e0-a799-296763dfa0c8",
   "metadata": {},
   "outputs": [],
   "source": []
  }
 ],
 "metadata": {
  "kernelspec": {
   "display_name": "Python 3 (ipykernel)",
   "language": "python",
   "name": "python3"
  },
  "language_info": {
   "codemirror_mode": {
    "name": "ipython",
    "version": 3
   },
   "file_extension": ".py",
   "mimetype": "text/x-python",
   "name": "python",
   "nbconvert_exporter": "python",
   "pygments_lexer": "ipython3",
   "version": "3.12.4"
  }
 },
 "nbformat": 4,
 "nbformat_minor": 5
}
