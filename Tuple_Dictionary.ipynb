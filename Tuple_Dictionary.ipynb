{
 "cells": [
  {
   "cell_type": "code",
   "execution_count": 2,
   "id": "6b92b743-4b07-47c4-9764-69ffde074374",
   "metadata": {},
   "outputs": [],
   "source": [
    "expenses=[1200, 1400, 1700]"
   ]
  },
  {
   "cell_type": "code",
   "execution_count": 4,
   "id": "7e867d9e-6741-4044-83dd-ef359777f59a",
   "metadata": {},
   "outputs": [
    {
     "data": {
      "text/plain": [
       "list"
      ]
     },
     "execution_count": 4,
     "metadata": {},
     "output_type": "execute_result"
    }
   ],
   "source": [
    "type(expenses)"
   ]
  },
  {
   "cell_type": "code",
   "execution_count": 6,
   "id": "0e548362-a917-4bd0-87df-2f58adb6c525",
   "metadata": {},
   "outputs": [
    {
     "data": {
      "text/plain": [
       "5"
      ]
     },
     "execution_count": 6,
     "metadata": {},
     "output_type": "execute_result"
    }
   ],
   "source": [
    "point = (5,6)\n",
    "point[0]"
   ]
  },
  {
   "cell_type": "code",
   "execution_count": 8,
   "id": "b3b7efe7-7b62-4640-afbc-d3c067ed23bb",
   "metadata": {},
   "outputs": [
    {
     "data": {
      "text/plain": [
       "6"
      ]
     },
     "execution_count": 8,
     "metadata": {},
     "output_type": "execute_result"
    }
   ],
   "source": [
    "point[1]"
   ]
  },
  {
   "cell_type": "code",
   "execution_count": 10,
   "id": "ff796fe6-e4f9-4dc9-a7f6-cef213e1b40d",
   "metadata": {},
   "outputs": [
    {
     "data": {
      "text/plain": [
       "tuple"
      ]
     },
     "execution_count": 10,
     "metadata": {},
     "output_type": "execute_result"
    }
   ],
   "source": [
    "type(point)"
   ]
  },
  {
   "cell_type": "code",
   "execution_count": 12,
   "id": "6c742e5f-7dff-4eb4-81c7-78988d3ab28d",
   "metadata": {},
   "outputs": [],
   "source": [
    "point_3d = (5,8,10)"
   ]
  },
  {
   "cell_type": "code",
   "execution_count": 14,
   "id": "0d9fae3a-5b6d-477c-9702-73078e3328ae",
   "metadata": {},
   "outputs": [],
   "source": [
    "def find_pe_and_pb(price, eps, book_value):\n",
    "    pe = price/eps\n",
    "    pb = price/book_value\n",
    "    return pe, pb"
   ]
  },
  {
   "cell_type": "code",
   "execution_count": 22,
   "id": "375af2bd-2fe0-4540-8e3b-1b20bc2500ad",
   "metadata": {},
   "outputs": [],
   "source": [
    "pe_ratio, pb_ratio = find_pe_and_pb(100, 2, 4)"
   ]
  },
  {
   "cell_type": "code",
   "execution_count": 24,
   "id": "d8d44c03-b7ab-47c2-972b-e5b72b3e69d0",
   "metadata": {},
   "outputs": [
    {
     "data": {
      "text/plain": [
       "50.0"
      ]
     },
     "execution_count": 24,
     "metadata": {},
     "output_type": "execute_result"
    }
   ],
   "source": [
    "pe_ratio"
   ]
  },
  {
   "cell_type": "code",
   "execution_count": 26,
   "id": "20ac0ee4-db1a-4492-a2e1-ac6dfba61555",
   "metadata": {},
   "outputs": [
    {
     "data": {
      "text/plain": [
       "25.0"
      ]
     },
     "execution_count": 26,
     "metadata": {},
     "output_type": "execute_result"
    }
   ],
   "source": [
    "pb_ratio"
   ]
  },
  {
   "cell_type": "code",
   "execution_count": 85,
   "id": "21462e90-2951-476e-b065-b9ce51b5565b",
   "metadata": {},
   "outputs": [],
   "source": [
    "contacts = [('rachel',8887771111), ('monica',9195675555), ('joey',3332229999)]"
   ]
  },
  {
   "cell_type": "code",
   "execution_count": 87,
   "id": "99018125-be31-41fe-82d6-590b6af99245",
   "metadata": {},
   "outputs": [
    {
     "name": "stdout",
     "output_type": "stream",
     "text": [
      "9195675555\n"
     ]
    }
   ],
   "source": [
    "for contact in contacts:\n",
    "    if contact[0] == \"monica\":\n",
    "        print(contact[1])"
   ]
  },
  {
   "cell_type": "code",
   "execution_count": 89,
   "id": "30481203-3ec2-4769-9d54-dfe876148410",
   "metadata": {},
   "outputs": [
    {
     "data": {
      "text/plain": [
       "{'rachel': 8887771111, 'monica': 9195675555, 'joey': 3332229999}"
      ]
     },
     "execution_count": 89,
     "metadata": {},
     "output_type": "execute_result"
    }
   ],
   "source": [
    "d = {\n",
    "    'rachel' : 8887771111,\n",
    "    'monica' : 9195675555,\n",
    "    'joey' : 3332229999\n",
    "}\n",
    "d"
   ]
  },
  {
   "cell_type": "code",
   "execution_count": 91,
   "id": "ac8a46c5-790e-470f-b9a2-eabbac61fe19",
   "metadata": {},
   "outputs": [
    {
     "data": {
      "text/plain": [
       "dict"
      ]
     },
     "execution_count": 91,
     "metadata": {},
     "output_type": "execute_result"
    }
   ],
   "source": [
    "type(d)"
   ]
  },
  {
   "cell_type": "code",
   "execution_count": 93,
   "id": "1bedaf8a-6514-4ce7-8809-6a26d658f262",
   "metadata": {},
   "outputs": [
    {
     "data": {
      "text/plain": [
       "3332229999"
      ]
     },
     "execution_count": 93,
     "metadata": {},
     "output_type": "execute_result"
    }
   ],
   "source": [
    "d['joey']"
   ]
  },
  {
   "cell_type": "code",
   "execution_count": 95,
   "id": "b4dd6436-c028-4671-a79e-6d96063329da",
   "metadata": {},
   "outputs": [],
   "source": [
    "d['satya']=45646545"
   ]
  },
  {
   "cell_type": "code",
   "execution_count": 97,
   "id": "3464c2e8-c7ed-4b23-9423-5a7ed39254d6",
   "metadata": {},
   "outputs": [
    {
     "data": {
      "text/plain": [
       "45646545"
      ]
     },
     "execution_count": 97,
     "metadata": {},
     "output_type": "execute_result"
    }
   ],
   "source": [
    "d['satya']"
   ]
  },
  {
   "cell_type": "code",
   "execution_count": 99,
   "id": "eb4a1924-a0d7-4a79-a93d-e8120acc9e3d",
   "metadata": {},
   "outputs": [
    {
     "data": {
      "text/plain": [
       "{'rachel': 8887771111,\n",
       " 'monica': 9195675555,\n",
       " 'joey': 3332229999,\n",
       " 'satya': 45646545}"
      ]
     },
     "execution_count": 99,
     "metadata": {},
     "output_type": "execute_result"
    }
   ],
   "source": [
    "d"
   ]
  },
  {
   "cell_type": "code",
   "execution_count": 101,
   "id": "4ad70cd2-fd61-4586-8ff5-496e4b4eaa1e",
   "metadata": {},
   "outputs": [],
   "source": [
    "del d['satya']"
   ]
  },
  {
   "cell_type": "code",
   "execution_count": 103,
   "id": "319dac5d-b7cb-43c6-8c01-9708ec9a558e",
   "metadata": {},
   "outputs": [
    {
     "data": {
      "text/plain": [
       "{'rachel': 8887771111, 'monica': 9195675555, 'joey': 3332229999}"
      ]
     },
     "execution_count": 103,
     "metadata": {},
     "output_type": "execute_result"
    }
   ],
   "source": [
    "d"
   ]
  },
  {
   "cell_type": "code",
   "execution_count": 105,
   "id": "2280ea1f-f7d2-42a2-aaaa-0b48afa90cfa",
   "metadata": {},
   "outputs": [
    {
     "data": {
      "text/plain": [
       "False"
      ]
     },
     "execution_count": 105,
     "metadata": {},
     "output_type": "execute_result"
    }
   ],
   "source": [
    "'abdul' in d"
   ]
  },
  {
   "cell_type": "code",
   "execution_count": 107,
   "id": "8731dd5a-86ac-4262-a8fc-fc09d230b68b",
   "metadata": {},
   "outputs": [
    {
     "data": {
      "text/plain": [
       "False"
      ]
     },
     "execution_count": 107,
     "metadata": {},
     "output_type": "execute_result"
    }
   ],
   "source": [
    "'satya' in d"
   ]
  },
  {
   "cell_type": "code",
   "execution_count": 109,
   "id": "3593804c-95fb-40e3-805c-cd80b88c27e8",
   "metadata": {},
   "outputs": [
    {
     "data": {
      "text/plain": [
       "True"
      ]
     },
     "execution_count": 109,
     "metadata": {},
     "output_type": "execute_result"
    }
   ],
   "source": [
    "'joey' in d"
   ]
  },
  {
   "cell_type": "code",
   "execution_count": 111,
   "id": "e0b52d8a-46ab-4c9c-b34c-2886092ab5df",
   "metadata": {},
   "outputs": [],
   "source": [
    "contact_dict = {\n",
    "    'rachel' : {'phone' : 1234, 'address': '1 blue st'},\n",
    "    'joey' : {'phone': 999, 'address': '7 newton blvd'}\n",
    "}"
   ]
  },
  {
   "cell_type": "code",
   "execution_count": 115,
   "id": "ff31a53e-ec20-433a-a21c-32ebaea89a54",
   "metadata": {},
   "outputs": [
    {
     "data": {
      "text/plain": [
       "'1 blue st'"
      ]
     },
     "execution_count": 115,
     "metadata": {},
     "output_type": "execute_result"
    }
   ],
   "source": [
    "contact_dict['rachel']['address']"
   ]
  },
  {
   "cell_type": "code",
   "execution_count": 117,
   "id": "b5fbe637-c7d7-4380-82d0-8cc15b2d35c6",
   "metadata": {},
   "outputs": [
    {
     "data": {
      "text/plain": [
       "{'phone': 1234, 'address': '1 blue st'}"
      ]
     },
     "execution_count": 117,
     "metadata": {},
     "output_type": "execute_result"
    }
   ],
   "source": [
    "contact_dict['rachel']"
   ]
  },
  {
   "cell_type": "code",
   "execution_count": 119,
   "id": "bedcde54-d658-4f2a-b244-af019e1334b1",
   "metadata": {},
   "outputs": [
    {
     "data": {
      "text/plain": [
       "{'rachel': 8887771111, 'monica': 9195675555, 'joey': 3332229999}"
      ]
     },
     "execution_count": 119,
     "metadata": {},
     "output_type": "execute_result"
    }
   ],
   "source": [
    "d"
   ]
  },
  {
   "cell_type": "code",
   "execution_count": 121,
   "id": "d972ebed-868d-4c23-810d-314797269629",
   "metadata": {},
   "outputs": [
    {
     "name": "stdout",
     "output_type": "stream",
     "text": [
      "rachel 8887771111\n",
      "monica 9195675555\n",
      "joey 3332229999\n"
     ]
    }
   ],
   "source": [
    "for name, number in d.items():\n",
    "    print(name, number)"
   ]
  },
  {
   "cell_type": "code",
   "execution_count": 123,
   "id": "722b2161-8a62-493f-9974-29cec56ecb20",
   "metadata": {},
   "outputs": [
    {
     "data": {
      "text/plain": [
       "dict_keys(['rachel', 'monica', 'joey'])"
      ]
     },
     "execution_count": 123,
     "metadata": {},
     "output_type": "execute_result"
    }
   ],
   "source": [
    "d.keys()"
   ]
  },
  {
   "cell_type": "code",
   "execution_count": 125,
   "id": "14d830fc-05e6-4758-9a19-39800cc9637e",
   "metadata": {},
   "outputs": [
    {
     "data": {
      "text/plain": [
       "dict_values([8887771111, 9195675555, 3332229999])"
      ]
     },
     "execution_count": 125,
     "metadata": {},
     "output_type": "execute_result"
    }
   ],
   "source": [
    "d.values()"
   ]
  },
  {
   "cell_type": "code",
   "execution_count": 127,
   "id": "9b1dc37e-b542-4f4e-8f05-893429ce0186",
   "metadata": {},
   "outputs": [],
   "source": [
    "appl_revenues = {\n",
    "    'USA': {\n",
    "        'iphone': 20,\n",
    "        'ipad': 12,\n",
    "        'Macbook': 8\n",
    "    },\n",
    "    'China': {\n",
    "        'iphone': 17,\n",
    "        'ipad': 9,\n",
    "        'Macbook': 6\n",
    "    },\n",
    "    'India': {\n",
    "        'iphone': 9,\n",
    "        'ipad': 4,\n",
    "        'Macbook': 2\n",
    "    }    \n",
    "}"
   ]
  },
  {
   "cell_type": "code",
   "execution_count": 131,
   "id": "854402e7-b282-400b-b9e9-66b8a6703311",
   "metadata": {},
   "outputs": [
    {
     "name": "stdout",
     "output_type": "stream",
     "text": [
      "USA iphone : 20 million $\n",
      "USA ipad : 12 million $\n",
      "USA Macbook : 8 million $\n",
      "China iphone : 17 million $\n",
      "China ipad : 9 million $\n",
      "China Macbook : 6 million $\n",
      "India iphone : 9 million $\n",
      "India ipad : 4 million $\n",
      "India Macbook : 2 million $\n"
     ]
    }
   ],
   "source": [
    "for country ,product_data in appl_revenues.items():\n",
    "    for product, rev in product_data.items():\n",
    "        print(f\"{country} {product} : {rev} million $\")\n",
    "    "
   ]
  },
  {
   "cell_type": "code",
   "execution_count": null,
   "id": "465717cd-4ace-40d4-b619-7a5fab518efa",
   "metadata": {},
   "outputs": [],
   "source": []
  },
  {
   "cell_type": "code",
   "execution_count": null,
   "id": "497ed80e-745b-4e83-be15-41c83d259596",
   "metadata": {},
   "outputs": [],
   "source": []
  },
  {
   "cell_type": "code",
   "execution_count": null,
   "id": "10e8f986-58eb-4161-9b86-ef1b639cc5fd",
   "metadata": {},
   "outputs": [],
   "source": []
  },
  {
   "cell_type": "code",
   "execution_count": null,
   "id": "05d01edb-91c1-4067-89a4-a1fd3e2ab66b",
   "metadata": {},
   "outputs": [],
   "source": []
  },
  {
   "cell_type": "code",
   "execution_count": null,
   "id": "a48c78a0-bc6b-4665-9c59-f067bde808ec",
   "metadata": {},
   "outputs": [],
   "source": []
  },
  {
   "cell_type": "code",
   "execution_count": null,
   "id": "fc04b05c-fb85-4151-92f4-cf2aa0b7b217",
   "metadata": {},
   "outputs": [],
   "source": []
  },
  {
   "cell_type": "code",
   "execution_count": null,
   "id": "aaec716a-853f-4780-a438-98b9f63ec171",
   "metadata": {},
   "outputs": [],
   "source": []
  },
  {
   "cell_type": "code",
   "execution_count": null,
   "id": "d3e6f30f-c124-4784-b8e8-0df0b00e2f03",
   "metadata": {},
   "outputs": [],
   "source": []
  },
  {
   "cell_type": "code",
   "execution_count": null,
   "id": "19fc5e38-6e02-49ad-bbe8-c1bef79b346e",
   "metadata": {},
   "outputs": [],
   "source": []
  },
  {
   "cell_type": "code",
   "execution_count": null,
   "id": "cf016478-b52d-402f-8abd-a724d40d0dc2",
   "metadata": {},
   "outputs": [],
   "source": []
  },
  {
   "cell_type": "code",
   "execution_count": null,
   "id": "cfb5f255-3276-4b84-b621-b553a4042f27",
   "metadata": {},
   "outputs": [],
   "source": []
  },
  {
   "cell_type": "code",
   "execution_count": null,
   "id": "7576fa21-d659-4dfb-ac71-9fdf6268d93a",
   "metadata": {},
   "outputs": [],
   "source": []
  },
  {
   "cell_type": "code",
   "execution_count": null,
   "id": "7fed2baa-d248-44c2-9c9f-9fcdd3b842b6",
   "metadata": {},
   "outputs": [],
   "source": []
  },
  {
   "cell_type": "code",
   "execution_count": null,
   "id": "0fb4b554-6532-470d-b547-43254cb93935",
   "metadata": {},
   "outputs": [],
   "source": []
  },
  {
   "cell_type": "code",
   "execution_count": null,
   "id": "3371da43-e630-49a4-8d3b-51c766275546",
   "metadata": {},
   "outputs": [],
   "source": []
  },
  {
   "cell_type": "code",
   "execution_count": null,
   "id": "976d9eee-1e27-49f5-b8f7-214cbd2a663e",
   "metadata": {},
   "outputs": [],
   "source": []
  },
  {
   "cell_type": "code",
   "execution_count": null,
   "id": "fc8ccdad-35bc-4696-a967-413d0caf3303",
   "metadata": {},
   "outputs": [],
   "source": []
  },
  {
   "cell_type": "code",
   "execution_count": null,
   "id": "97109869-24e9-4515-9bc5-a9be3b5e72fa",
   "metadata": {},
   "outputs": [],
   "source": []
  },
  {
   "cell_type": "code",
   "execution_count": null,
   "id": "41582723-c114-40a0-b7d5-f4d6bcb9a088",
   "metadata": {},
   "outputs": [],
   "source": []
  },
  {
   "cell_type": "code",
   "execution_count": null,
   "id": "74b5cd5a-e45d-42fc-ae9d-83eec94342e0",
   "metadata": {},
   "outputs": [],
   "source": []
  },
  {
   "cell_type": "code",
   "execution_count": null,
   "id": "126d9216-dd07-4f7d-89da-ff0821001037",
   "metadata": {},
   "outputs": [],
   "source": []
  },
  {
   "cell_type": "code",
   "execution_count": null,
   "id": "8d7be4f9-c8ab-4760-9c81-15c566edfb89",
   "metadata": {},
   "outputs": [],
   "source": []
  },
  {
   "cell_type": "code",
   "execution_count": null,
   "id": "85eb2304-e037-4b55-a574-ad4101af8f37",
   "metadata": {},
   "outputs": [],
   "source": []
  },
  {
   "cell_type": "code",
   "execution_count": null,
   "id": "3c8cd440-d69c-4eab-a629-182bc45701c8",
   "metadata": {},
   "outputs": [],
   "source": []
  },
  {
   "cell_type": "code",
   "execution_count": null,
   "id": "95cc8a7a-b0dc-45bf-96e3-40ab5a7be18d",
   "metadata": {},
   "outputs": [],
   "source": []
  },
  {
   "cell_type": "code",
   "execution_count": null,
   "id": "e5db159f-d7c4-44a2-8ede-fce57ea49895",
   "metadata": {},
   "outputs": [],
   "source": []
  },
  {
   "cell_type": "code",
   "execution_count": null,
   "id": "a4d2b97d-39b0-4a31-a5fa-4a567600ce98",
   "metadata": {},
   "outputs": [],
   "source": []
  },
  {
   "cell_type": "code",
   "execution_count": null,
   "id": "ef1a612b-65e2-47ce-b7a8-5a3057daa578",
   "metadata": {},
   "outputs": [],
   "source": []
  },
  {
   "cell_type": "code",
   "execution_count": null,
   "id": "b042b5b0-cb71-4af4-a2df-5ad0f95b46a2",
   "metadata": {},
   "outputs": [],
   "source": []
  },
  {
   "cell_type": "code",
   "execution_count": null,
   "id": "02da2a77-a5e8-438d-9824-95db719ef59f",
   "metadata": {},
   "outputs": [],
   "source": []
  },
  {
   "cell_type": "code",
   "execution_count": null,
   "id": "14a023dc-4b11-4ffa-b862-3e3ec0c3002a",
   "metadata": {},
   "outputs": [],
   "source": []
  },
  {
   "cell_type": "code",
   "execution_count": null,
   "id": "89c59472-1eba-472b-8ec8-47c9e1ca6776",
   "metadata": {},
   "outputs": [],
   "source": []
  },
  {
   "cell_type": "code",
   "execution_count": null,
   "id": "45bcae8a-94e0-4341-9dd9-2df75a4cd54c",
   "metadata": {},
   "outputs": [],
   "source": []
  },
  {
   "cell_type": "code",
   "execution_count": null,
   "id": "ec7c5aba-211d-4725-9459-799f8d021bf6",
   "metadata": {},
   "outputs": [],
   "source": []
  }
 ],
 "metadata": {
  "kernelspec": {
   "display_name": "Python 3 (ipykernel)",
   "language": "python",
   "name": "python3"
  },
  "language_info": {
   "codemirror_mode": {
    "name": "ipython",
    "version": 3
   },
   "file_extension": ".py",
   "mimetype": "text/x-python",
   "name": "python",
   "nbconvert_exporter": "python",
   "pygments_lexer": "ipython3",
   "version": "3.12.4"
  }
 },
 "nbformat": 4,
 "nbformat_minor": 5
}
