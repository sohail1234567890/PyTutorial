{
 "cells": [
  {
   "cell_type": "markdown",
   "metadata": {},
   "source": [
    "<h2 align=\"center\" style=\"color:blue\">Codebasics Python Course: Classes & File Handling</h2>"
   ]
  },
  {
   "cell_type": "markdown",
   "metadata": {},
   "source": [
    "**Background:** AtliQ, a software-based service company, operates an internal library to support the continuous learning and development of its employees. The library contains various types of items, such as books and journals, available for borrowing.\n",
    "\n",
    "**Problem Statement:** Celina, the librarian at AtliQ, currently handles the logistics of borrowing and returning items manually, which includes managing the status of each item and handling exceptions like borrowing attempts on items that are already loaned out. Your task is to assist Celina by automating part of her workload by completing the following tasks using Python."
   ]
  },
  {
   "cell_type": "markdown",
   "metadata": {},
   "source": [
    "### Task 1: Implement the LibraryItem Class\n",
    "\n",
    "**Scenario:** Help Celina automate the borrowing and returning process for items in AtliQ's library.\n",
    "\n",
    "**Task:** Create a Python class ```LibraryItem``` with the following structure:\n",
    "\n",
    "**Attributes:**\n",
    "\n",
    "```title:``` Name of the item. \n",
    "\n",
    "```is_borrowed:``` Boolean, True if borrowed, False otherwise.\n",
    "\n",
    "**Methods:**\n",
    "\n",
    "```borrow_item()```: If is_borrowed is True, raise an exception\n",
    "\n",
    "```raise Exception(f\"The item '{self.title}' is already borrowed.\")```\n",
    "\n",
    "Otherwise, set ```is_borrowed``` to True.\n",
    "\n",
    "```return_item()``` should also have a similar logic."
   ]
  },
  {
   "cell_type": "code",
   "execution_count": 29,
   "metadata": {},
   "outputs": [],
   "source": [
    "# write your code here\n",
    "class LibraryItem:\n",
    "    def __init__(self, title):\n",
    "        self.title = title\n",
    "        self.is_borrowed = False\n",
    "\n",
    "    def borrow(self):\n",
    "        if self.is_borrowed:\n",
    "            raise Exception(f\"the item' {self.title} 'is already borrowed.\")\n",
    "            self.is_borrowed = True\n",
    "            print(f\"{self.title} has been borrowed\")\n",
    "\n",
    "    def return_item(self):\n",
    "        if not self.is_borrowed:\n",
    "            raise Exception(f\"the item '{self.title}' is not borrowed \")\n",
    "        self.is_borrowed = False\n",
    "        print(f\"{self.title } has been returned\")\n",
    "\n",
    "\n"
   ]
  },
  {
   "cell_type": "code",
   "execution_count": 31,
   "metadata": {},
   "outputs": [
    {
     "data": {
      "text/plain": [
       "'The power of thinking big'"
      ]
     },
     "execution_count": 31,
     "metadata": {},
     "output_type": "execute_result"
    }
   ],
   "source": [
    "book = Library_Item(\"The power of thinking big\")\n",
    "book.title"
   ]
  },
  {
   "cell_type": "code",
   "execution_count": 33,
   "metadata": {},
   "outputs": [],
   "source": [
    "book.borrow()"
   ]
  },
  {
   "cell_type": "code",
   "execution_count": 35,
   "metadata": {},
   "outputs": [
    {
     "ename": "Exception",
     "evalue": "the item 'The power of thinking big' is not borrowed ",
     "output_type": "error",
     "traceback": [
      "\u001b[1;31m---------------------------------------------------------------------------\u001b[0m",
      "\u001b[1;31mException\u001b[0m                                 Traceback (most recent call last)",
      "Cell \u001b[1;32mIn[35], line 1\u001b[0m\n\u001b[1;32m----> 1\u001b[0m book\u001b[38;5;241m.\u001b[39mreturn_item()\n",
      "Cell \u001b[1;32mIn[14], line 15\u001b[0m, in \u001b[0;36mLibrary_Item.return_item\u001b[1;34m(self)\u001b[0m\n\u001b[0;32m     13\u001b[0m \u001b[38;5;28;01mdef\u001b[39;00m \u001b[38;5;21mreturn_item\u001b[39m(\u001b[38;5;28mself\u001b[39m):\n\u001b[0;32m     14\u001b[0m     \u001b[38;5;28;01mif\u001b[39;00m \u001b[38;5;129;01mnot\u001b[39;00m \u001b[38;5;28mself\u001b[39m\u001b[38;5;241m.\u001b[39mis_borrowed:\n\u001b[1;32m---> 15\u001b[0m         \u001b[38;5;28;01mraise\u001b[39;00m \u001b[38;5;167;01mException\u001b[39;00m(\u001b[38;5;124mf\u001b[39m\u001b[38;5;124m\"\u001b[39m\u001b[38;5;124mthe item \u001b[39m\u001b[38;5;124m'\u001b[39m\u001b[38;5;132;01m{\u001b[39;00m\u001b[38;5;28mself\u001b[39m\u001b[38;5;241m.\u001b[39mtitle\u001b[38;5;132;01m}\u001b[39;00m\u001b[38;5;124m'\u001b[39m\u001b[38;5;124m is not borrowed \u001b[39m\u001b[38;5;124m\"\u001b[39m)\n\u001b[0;32m     16\u001b[0m     \u001b[38;5;28mself\u001b[39m\u001b[38;5;241m.\u001b[39mis_borrowed \u001b[38;5;241m=\u001b[39m \u001b[38;5;28;01mFalse\u001b[39;00m\n\u001b[0;32m     17\u001b[0m     \u001b[38;5;28mprint\u001b[39m(\u001b[38;5;124mf\u001b[39m\u001b[38;5;124m\"\u001b[39m\u001b[38;5;132;01m{\u001b[39;00m\u001b[38;5;28mself\u001b[39m\u001b[38;5;241m.\u001b[39mtitle\u001b[38;5;250m \u001b[39m\u001b[38;5;132;01m}\u001b[39;00m\u001b[38;5;124m has been returned\u001b[39m\u001b[38;5;124m\"\u001b[39m)\n",
      "\u001b[1;31mException\u001b[0m: the item 'The power of thinking big' is not borrowed "
     ]
    }
   ],
   "source": [
    "book.return_item()"
   ]
  },
  {
   "cell_type": "code",
   "execution_count": null,
   "metadata": {},
   "outputs": [],
   "source": []
  },
  {
   "cell_type": "markdown",
   "metadata": {},
   "source": [
    "### Task 2: Create the Book Class\n",
    "\n",
    "**Scenario:** Celina at AtliQ's library needs to catalog books separately from other items to provide detailed information, including the authors' names.\n",
    "\n",
    "**Task:** Develop a derived class Book from ```LibraryItem``` to manage books with additional details.\n",
    "\n",
    "**Details:**\n",
    "\n",
    "**1. Attributes:**\n",
    "\n",
    "- Inherits all attributes from ```LibraryItem```.\n",
    "\n",
    "- ```author```: Name of the book's author.\n",
    "\n",
    "**2. Implementation:**\n",
    "\n",
    "- Create an object of the Book class with:\n",
    "    - ```title```: \"The Magic of Thinking Big\"\n",
    "    - ```author```: \"David Schwartz\"\n",
    "\n",
    "This will help Celina keep a more detailed inventory and enhance the library’s catalog system. "
   ]
  },
  {
   "cell_type": "code",
   "execution_count": 49,
   "metadata": {},
   "outputs": [],
   "source": [
    "# write your code here\n",
    "class Book(LibraryItem):\n",
    "    def __init__ (self, title, author):\n",
    "        super().__init__(title)\n",
    "        self.author = author"
   ]
  },
  {
   "cell_type": "code",
   "execution_count": 51,
   "metadata": {},
   "outputs": [
    {
     "name": "stdout",
     "output_type": "stream",
     "text": [
      "Title :The magic of thinking big , Author :David schwartz\n"
     ]
    }
   ],
   "source": [
    "book = Book('The magic of thinking big ', 'David schwartz')\n",
    "print(f\"Title :{book.title}, Author :{book.author}\")"
   ]
  },
  {
   "cell_type": "markdown",
   "metadata": {},
   "source": [
    "### Task 3: Create the Journal Class\n",
    "\n",
    "**Scenario:** Celina needs to manage journals effectively in AtliQ's library, where each journal has specific issues that are often requested by staff for their research and development work.\n",
    "\n",
    "**Task:** Develop a derived class ```Journal``` from ```LibraryItem``` to manage journals with specific issue numbers.\n",
    "\n",
    "**Details:**\n",
    "\n",
    "**1. Attributes:**\n",
    "\n",
    "- Inherits all attributes from ```LibraryItem```.\n",
    "- ```issue_number```: The specific issue number of the journal.\n",
    "\n",
    "**2. Implementation:**\n",
    "\n",
    "- Create an object of the Journal class with:\n",
    "    - ```title```: \"Nature\"\n",
    "    - ```issue_number``` : 50\n",
    "\n",
    "This setup will help Celina organize journals by issue number, making them easier to locate and manage."
   ]
  },
  {
   "cell_type": "code",
   "execution_count": 56,
   "metadata": {},
   "outputs": [
    {
     "name": "stdout",
     "output_type": "stream",
     "text": [
      "Title :Nature, Issue Number :50\n"
     ]
    }
   ],
   "source": [
    "# write your code here\n",
    "class Journal(LibraryItems):\n",
    "    def __init__(self, title, issue_number):\n",
    "        super().__init__(title)\n",
    "        self.issue_number = issue_number\n",
    "\n",
    "Journal = Journal('Nature', '50')\n",
    "print(f\"Title :{Journal.title}, Issue Number :{Journal.issue_number}\")\n"
   ]
  },
  {
   "cell_type": "markdown",
   "metadata": {},
   "source": [
    "### Task 4: Handle Borrowing Exceptions\n",
    "\n",
    "**Scenario:** Celina sometimes gets requests to borrow a book that’s already borrowed. To prevent this, we need to handle this situation in our code.\n",
    "\n",
    "**Task:** Try borrowing the same book twice and handle the exception that occurs.\n",
    "\n",
    "**Details:**\n",
    "\n",
    "**1. Process:**\n",
    "\n",
    "- Use the Book object from Task 2.\n",
    "- Attempt to borrow the book two times in a row.\n",
    "\n",
    "**2. Exception Handling:**\n",
    "\n",
    "- Catch the exception raised when trying to borrow it the second time.\n",
    "- Print the exception message.\n",
    "\n",
    "This will help Celina prevent errors when someone tries to borrow an already borrowed book."
   ]
  },
  {
   "cell_type": "code",
   "execution_count": 60,
   "metadata": {},
   "outputs": [],
   "source": [
    "# write your code here\n",
    "try:\n",
    "    book.borrow()\n",
    "    book.borrow()\n",
    "except Exception as e:\n",
    "    print(e)\n",
    "\n"
   ]
  },
  {
   "cell_type": "markdown",
   "metadata": {},
   "source": [
    "### Task 5: Handle Return Exceptions\n",
    "\n",
    "**Scenario:** Celina sometimes faces issues when someone tries to return a journal that hasn’t been borrowed yet. This creates an opportunity to ensure such mistakes are handled gracefully.\n",
    "\n",
    "**Task:** Simulate and handle the exception when trying to return a journal that has not been borrowed.\n",
    "\n",
    "**Details:**\n",
    "\n",
    "**1. Process:**\n",
    "\n",
    "- Use the Journal object from Task 3.\n",
    "- Attempt to return the journal without it being borrowed first.\n",
    "\n",
    "**2. Exception Handling:**\n",
    "\n",
    "- Catch the exception that occurs when trying to return the un-borrowed journal.\n",
    "- Print the exception message.\n",
    "\n",
    "This will assist Celina in managing return processes more efficiently and prevent unnecessary errors."
   ]
  },
  {
   "cell_type": "code",
   "execution_count": 62,
   "metadata": {},
   "outputs": [
    {
     "name": "stdout",
     "output_type": "stream",
     "text": [
      "the item 'Nature' is not borrowed \n"
     ]
    }
   ],
   "source": [
    "# write your code here\n",
    "try:\n",
    "    Journal.return_item()\n",
    "except Exception as e:\n",
    "    print(e)"
   ]
  },
  {
   "cell_type": "code",
   "execution_count": null,
   "metadata": {},
   "outputs": [],
   "source": []
  }
 ],
 "metadata": {
  "colab": {
   "collapsed_sections": [],
   "name": "1_Variables.ipynb",
   "provenance": []
  },
  "kernelspec": {
   "display_name": "Python 3 (ipykernel)",
   "language": "python",
   "name": "python3"
  },
  "language_info": {
   "codemirror_mode": {
    "name": "ipython",
    "version": 3
   },
   "file_extension": ".py",
   "mimetype": "text/x-python",
   "name": "python",
   "nbconvert_exporter": "python",
   "pygments_lexer": "ipython3",
   "version": "3.12.4"
  }
 },
 "nbformat": 4,
 "nbformat_minor": 4
}
