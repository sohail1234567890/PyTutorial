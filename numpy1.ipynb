{
 "cells": [
  {
   "cell_type": "code",
   "execution_count": 2,
   "id": "c44685ab-b890-48d4-a964-d152ed84e323",
   "metadata": {},
   "outputs": [],
   "source": [
    "import numpy as np"
   ]
  },
  {
   "cell_type": "code",
   "execution_count": 4,
   "id": "02252cb8-0ed8-4f36-bf27-2ea15fd10f6a",
   "metadata": {},
   "outputs": [
    {
     "data": {
      "text/plain": [
       "array([1, 2, 3])"
      ]
     },
     "execution_count": 4,
     "metadata": {},
     "output_type": "execute_result"
    }
   ],
   "source": [
    "arr = np.array([1,2,3])\n",
    "arr"
   ]
  },
  {
   "cell_type": "code",
   "execution_count": 6,
   "id": "f3e1dd03-b7cf-414e-b765-6cdeee54da0b",
   "metadata": {},
   "outputs": [
    {
     "data": {
      "text/plain": [
       "[1, 2, 3]"
      ]
     },
     "execution_count": 6,
     "metadata": {},
     "output_type": "execute_result"
    }
   ],
   "source": [
    "l = [1,2,3]\n",
    "l"
   ]
  },
  {
   "cell_type": "code",
   "execution_count": 8,
   "id": "173c9387-7b32-4100-80fe-0ea414ed38c4",
   "metadata": {},
   "outputs": [
    {
     "data": {
      "text/plain": [
       "[0, 1, 2, 3, 4]"
      ]
     },
     "execution_count": 8,
     "metadata": {},
     "output_type": "execute_result"
    }
   ],
   "source": [
    "python_list = list(range(100))\n",
    "python_list[:5]"
   ]
  },
  {
   "cell_type": "code",
   "execution_count": 12,
   "id": "6039db43-333c-4c63-bbe0-cf8d4122d31f",
   "metadata": {},
   "outputs": [
    {
     "data": {
      "text/plain": [
       "2800"
      ]
     },
     "execution_count": 12,
     "metadata": {},
     "output_type": "execute_result"
    }
   ],
   "source": [
    "import sys\n",
    "\n",
    "sys.getsizeof(python_list[0])*len(python_list)"
   ]
  },
  {
   "cell_type": "code",
   "execution_count": 18,
   "id": "713d8c3d-9294-4a6a-848e-39ee814be5a3",
   "metadata": {},
   "outputs": [
    {
     "data": {
      "text/plain": [
       "array([0, 1, 2, 3, 4])"
      ]
     },
     "execution_count": 18,
     "metadata": {},
     "output_type": "execute_result"
    }
   ],
   "source": [
    "numpy_array = np.arange(100)\n",
    "numpy_array[:5]"
   ]
  },
  {
   "cell_type": "code",
   "execution_count": 20,
   "id": "4e6ffc40-fe83-426e-87b4-d6c30b3bf964",
   "metadata": {},
   "outputs": [
    {
     "data": {
      "text/plain": [
       "400"
      ]
     },
     "execution_count": 20,
     "metadata": {},
     "output_type": "execute_result"
    }
   ],
   "source": [
    "numpy_array.nbytes"
   ]
  },
  {
   "cell_type": "code",
   "execution_count": 24,
   "id": "701768e3-31ca-44d4-a2e3-fff951abf3ab",
   "metadata": {},
   "outputs": [
    {
     "name": "stdout",
     "output_type": "stream",
     "text": [
      "1 8\n",
      "2 7\n",
      "3 9\n"
     ]
    }
   ],
   "source": [
    "l1 = [1,2,3]\n",
    "l2 = [8,7,9]\n",
    "\n",
    "tuple(zip(l1,l2))\n",
    "\n",
    "for x, y in zip(l1, l2):\n",
    "    print(x ,y)"
   ]
  },
  {
   "cell_type": "code",
   "execution_count": 28,
   "id": "5eb41e09-ef40-41c5-b6c6-50647e2e47e9",
   "metadata": {},
   "outputs": [
    {
     "name": "stdout",
     "output_type": "stream",
     "text": [
      "Python list took: 0.14635968208312988\n"
     ]
    }
   ],
   "source": [
    "import time \n",
    "\n",
    "SIZE = 1000000\n",
    "\n",
    "l1 = list(range(SIZE))\n",
    "l2 = list(range(SIZE))\n",
    "\n",
    "\n",
    "start_time = time.time()\n",
    "l3 = [x+y for x, y in zip(l1,l2)]\n",
    "end_time = time.time()\n",
    "\n",
    "print('Python list took:', end_time-start_time)"
   ]
  },
  {
   "cell_type": "code",
   "execution_count": 37,
   "id": "8369aca7-9811-4311-859a-6f0e449b8c08",
   "metadata": {},
   "outputs": [
    {
     "data": {
      "text/plain": [
       "(array([0, 1, 2, 3]), array([0, 1, 2, 3]))"
      ]
     },
     "execution_count": 37,
     "metadata": {},
     "output_type": "execute_result"
    }
   ],
   "source": [
    "n1 = np.arange(SIZE)\n",
    "n2 = np.arange(SIZE)\n",
    "n1[:4], n2[:4]"
   ]
  },
  {
   "cell_type": "code",
   "execution_count": 39,
   "id": "1061a5f7-2365-4ade-84a6-ee922cd30921",
   "metadata": {},
   "outputs": [
    {
     "name": "stdout",
     "output_type": "stream",
     "text": [
      "Python list took: 0.009972333908081055\n"
     ]
    }
   ],
   "source": [
    "start_time = time.time()\n",
    "n3 = n1+n2\n",
    "end_time = time.time()\n",
    "print('Python list took:', end_time-start_time)"
   ]
  },
  {
   "cell_type": "code",
   "execution_count": null,
   "id": "2a46f628-0614-4f36-a425-5f17a6cf9c4f",
   "metadata": {},
   "outputs": [],
   "source": []
  },
  {
   "cell_type": "code",
   "execution_count": 41,
   "id": "66714b61-87d3-454f-8c57-3e920b972883",
   "metadata": {},
   "outputs": [
    {
     "data": {
      "text/plain": [
       "([0, 1, 2], [0, 1, 2])"
      ]
     },
     "execution_count": 41,
     "metadata": {},
     "output_type": "execute_result"
    }
   ],
   "source": [
    "l1 = list(range(5))\n",
    "l2 = list(range(5))\n",
    "l1[:3], l2[:3]"
   ]
  },
  {
   "cell_type": "code",
   "execution_count": 47,
   "id": "24054acf-eb87-4479-b538-8161c2ba429d",
   "metadata": {},
   "outputs": [
    {
     "data": {
      "text/plain": [
       "[0, 1, 2, 3, 4, 0, 1, 2, 3, 4]"
      ]
     },
     "execution_count": 47,
     "metadata": {},
     "output_type": "execute_result"
    }
   ],
   "source": [
    "l1+l2"
   ]
  },
  {
   "cell_type": "code",
   "execution_count": 49,
   "id": "53bd9345-5666-4f2a-9c43-e8535f50ed22",
   "metadata": {},
   "outputs": [
    {
     "data": {
      "text/plain": [
       "[0, 2, 4, 6, 8]"
      ]
     },
     "execution_count": 49,
     "metadata": {},
     "output_type": "execute_result"
    }
   ],
   "source": [
    "l3 = [x+y for x, y in zip(l1, l2)]\n",
    "l3"
   ]
  },
  {
   "cell_type": "code",
   "execution_count": null,
   "id": "e043c9d2-a27b-4f1d-9c96-2763a04a59cc",
   "metadata": {},
   "outputs": [],
   "source": [
    "\n"
   ]
  },
  {
   "cell_type": "code",
   "execution_count": null,
   "id": "fefe6e87-04f1-413d-96eb-dfffd096a928",
   "metadata": {},
   "outputs": [],
   "source": []
  }
 ],
 "metadata": {
  "kernelspec": {
   "display_name": "Python 3 (ipykernel)",
   "language": "python",
   "name": "python3"
  },
  "language_info": {
   "codemirror_mode": {
    "name": "ipython",
    "version": 3
   },
   "file_extension": ".py",
   "mimetype": "text/x-python",
   "name": "python",
   "nbconvert_exporter": "python",
   "pygments_lexer": "ipython3",
   "version": "3.12.4"
  }
 },
 "nbformat": 4,
 "nbformat_minor": 5
}
