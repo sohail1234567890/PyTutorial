{
 "cells": [
  {
   "cell_type": "code",
   "execution_count": 2,
   "id": "63b41aae-a6b3-4a31-8904-84fff009a3eb",
   "metadata": {},
   "outputs": [
    {
     "data": {
      "text/plain": [
       "{1, 2, 3, 4, 5}"
      ]
     },
     "execution_count": 2,
     "metadata": {},
     "output_type": "execute_result"
    }
   ],
   "source": [
    "myset = set([1,2,3,3,4,5])\n",
    "myset"
   ]
  },
  {
   "cell_type": "code",
   "execution_count": 4,
   "id": "dffdb476-6854-4690-bc6a-ad7d27073a2f",
   "metadata": {},
   "outputs": [
    {
     "data": {
      "text/plain": [
       "{1, 2, 3, 4, 5}"
      ]
     },
     "execution_count": 4,
     "metadata": {},
     "output_type": "execute_result"
    }
   ],
   "source": [
    "myset = {1,2,2,3,4,5,5}\n",
    "myset"
   ]
  },
  {
   "cell_type": "code",
   "execution_count": 5,
   "id": "d838e64a-22dd-4eb2-a872-b29939d4e799",
   "metadata": {},
   "outputs": [
    {
     "data": {
      "text/plain": [
       "{'Biryani', 'Dosa', 'Idli'}"
      ]
     },
     "execution_count": 5,
     "metadata": {},
     "output_type": "execute_result"
    }
   ],
   "source": [
    "menu = set(['Dosa','Idli','Biryani'])\n",
    "menu"
   ]
  },
  {
   "cell_type": "code",
   "execution_count": 6,
   "id": "d90ad4af-ce8b-427f-805e-3553619be70e",
   "metadata": {},
   "outputs": [
    {
     "data": {
      "text/plain": [
       "{'Biryani', 'Dosa', 'Idli', 'Pizza'}"
      ]
     },
     "execution_count": 6,
     "metadata": {},
     "output_type": "execute_result"
    }
   ],
   "source": [
    "menu.add('Pizza')\n",
    "menu"
   ]
  },
  {
   "cell_type": "code",
   "execution_count": 7,
   "id": "39aaae5b-939a-43d6-9ac1-43116a32d9dd",
   "metadata": {},
   "outputs": [
    {
     "data": {
      "text/plain": [
       "{'Biryani', 'Idli', 'Pizza'}"
      ]
     },
     "execution_count": 7,
     "metadata": {},
     "output_type": "execute_result"
    }
   ],
   "source": [
    "menu.remove('Dosa')\n",
    "menu"
   ]
  },
  {
   "cell_type": "code",
   "execution_count": 8,
   "id": "36a926dd-0f22-498b-bc1b-ee328c3e5a06",
   "metadata": {},
   "outputs": [
    {
     "data": {
      "text/plain": [
       "frozenset({'Biryani', 'Dosa', 'Idli'})"
      ]
     },
     "execution_count": 8,
     "metadata": {},
     "output_type": "execute_result"
    }
   ],
   "source": [
    "menu = frozenset(['Dosa','Idli','Biryani'])\n",
    "menu"
   ]
  },
  {
   "cell_type": "code",
   "execution_count": 9,
   "id": "eee93a4b-30dc-4981-9cb9-04d92bb3c19d",
   "metadata": {},
   "outputs": [
    {
     "ename": "AttributeError",
     "evalue": "'frozenset' object has no attribute 'add'",
     "output_type": "error",
     "traceback": [
      "\u001b[1;31m---------------------------------------------------------------------------\u001b[0m",
      "\u001b[1;31mAttributeError\u001b[0m                            Traceback (most recent call last)",
      "Cell \u001b[1;32mIn[9], line 1\u001b[0m\n\u001b[1;32m----> 1\u001b[0m menu\u001b[38;5;241m.\u001b[39madd(\u001b[38;5;124m'\u001b[39m\u001b[38;5;124mPizza\u001b[39m\u001b[38;5;124m'\u001b[39m)\n",
      "\u001b[1;31mAttributeError\u001b[0m: 'frozenset' object has no attribute 'add'"
     ]
    }
   ],
   "source": [
    "menu.add('Pizza')"
   ]
  },
  {
   "cell_type": "code",
   "execution_count": null,
   "id": "b2e592f3-b2a7-4cc9-a859-66fe3abb509d",
   "metadata": {},
   "outputs": [],
   "source": [
    "menu = set(['Dosa','Idli','Biryani'])\n",
    "menu"
   ]
  },
  {
   "cell_type": "code",
   "execution_count": null,
   "id": "c24a444b-f9a9-434a-9c10-aa1aff5c01a3",
   "metadata": {},
   "outputs": [],
   "source": [
    "'Dosa' in menu"
   ]
  },
  {
   "cell_type": "code",
   "execution_count": null,
   "id": "75653ef5-a1dd-4e0c-92f3-22296bb1045d",
   "metadata": {},
   "outputs": [],
   "source": [
    "'Burger' in menu"
   ]
  },
  {
   "cell_type": "code",
   "execution_count": null,
   "id": "32f03b00-fc38-4561-89c0-7535998ab2da",
   "metadata": {},
   "outputs": [],
   "source": []
  },
  {
   "cell_type": "code",
   "execution_count": null,
   "id": "2a45198b-938d-4974-b5e6-ffeb9b49f63e",
   "metadata": {},
   "outputs": [],
   "source": [
    "transactions = [\n",
    "    {'customer_name': 'Mira', 'amount': 56, 'date': '2024-08-01'},\n",
    "    {'customer_name': 'Mira', 'amount': 12.3, 'date': '2024-09-05'},\n",
    "    {'customer_name': 'Mohan', 'amount': 21, 'date': '2024-09-03'},\n",
    "    {'customer_name': 'Mohan', 'amount': 36.8, 'date': '2024-09-10'},\n",
    "    {'customer_name': 'Lucy', 'amount': 66.3, 'date': '2024-09-10'}\n",
    "]"
   ]
  },
  {
   "cell_type": "code",
   "execution_count": null,
   "id": "1d367ee5-62fb-40f7-9023-1e917f3c78de",
   "metadata": {},
   "outputs": [],
   "source": [
    "customers = set()\n",
    "\n",
    "for trans in transactions:\n",
    "    customers.add(trans['customer_name'])\n",
    "\n",
    "customers"
   ]
  },
  {
   "cell_type": "code",
   "execution_count": null,
   "id": "64cdeb23-854c-4b06-90d1-a86adad43f3b",
   "metadata": {},
   "outputs": [],
   "source": [
    "customers"
   ]
  },
  {
   "cell_type": "code",
   "execution_count": null,
   "id": "603ce1b7-b996-4819-b1cf-be30922afc14",
   "metadata": {},
   "outputs": [],
   "source": [
    "customers_list = list(customers)\n",
    "customers_list"
   ]
  },
  {
   "cell_type": "code",
   "execution_count": null,
   "id": "99172e94-6920-409f-8f71-4b32a71b1296",
   "metadata": {},
   "outputs": [],
   "source": [
    "a = {'Mira', 'Mohan', 'Lucy', 'Ahmed'}\n",
    "b = {'Chen', 'Mohan', 'Radha', 'Maria'}"
   ]
  },
  {
   "cell_type": "code",
   "execution_count": null,
   "id": "2c8c4fc9-da65-4d5e-b00c-faded985c719",
   "metadata": {},
   "outputs": [],
   "source": [
    "a | b"
   ]
  },
  {
   "cell_type": "code",
   "execution_count": null,
   "id": "998cb0e9-9fcf-489e-b57d-d834c99cac35",
   "metadata": {},
   "outputs": [],
   "source": []
  },
  {
   "cell_type": "code",
   "execution_count": 17,
   "id": "f9cc2861-aceb-452c-9329-bf7e63282e77",
   "metadata": {},
   "outputs": [
    {
     "name": "stdout",
     "output_type": "stream",
     "text": [
      "[1, 4, 9, 16, 25]\n"
     ]
    }
   ],
   "source": [
    "numbers = [1,2,3,4,5]\n",
    "sqr_number = []\n",
    "\n",
    "for n in numbers:\n",
    "    sqr_number.append(n*n)\n",
    "\n",
    "print(sqr_number)"
   ]
  },
  {
   "cell_type": "code",
   "execution_count": 19,
   "id": "8b1c9fd1-efda-4a96-8bca-8be79a3edbc8",
   "metadata": {},
   "outputs": [
    {
     "data": {
      "text/plain": [
       "[1, 4, 9, 16, 25]"
      ]
     },
     "execution_count": 19,
     "metadata": {},
     "output_type": "execute_result"
    }
   ],
   "source": [
    "sqr_number = [n*n for n in numbers]\n",
    "sqr_number"
   ]
  },
  {
   "cell_type": "code",
   "execution_count": 21,
   "id": "4c20e75c-24f9-4985-ae81-afdd62d047ff",
   "metadata": {},
   "outputs": [
    {
     "name": "stdout",
     "output_type": "stream",
     "text": [
      "Time taken by for loop: 3.2143115997314453\n"
     ]
    }
   ],
   "source": [
    "import  time\n",
    "\n",
    "long_list = range(10000000)\n",
    "sqr_list = []\n",
    "\n",
    "start = time.time()\n",
    "for n in long_list:\n",
    "    sqr_list.append(n*n)\n",
    "end = time.time()\n",
    "print('Time taken by for loop:', (end-start))"
   ]
  },
  {
   "cell_type": "code",
   "execution_count": 23,
   "id": "d03c9be4-d49d-49ca-8219-f121f03fc1a4",
   "metadata": {},
   "outputs": [
    {
     "name": "stdout",
     "output_type": "stream",
     "text": [
      "Time taken by list comprehension: 2.475360155105591\n"
     ]
    }
   ],
   "source": [
    "start = time.time()\n",
    "sqr_list = [n*n for n in long_list]\n",
    "end = time.time()\n",
    "print('Time taken by list comprehension:', (end-start))"
   ]
  },
  {
   "cell_type": "code",
   "execution_count": 25,
   "id": "03d1d9de-f80b-4c01-ad61-7ac10e3035ac",
   "metadata": {},
   "outputs": [],
   "source": [
    "price = [100, 120, 80, 50]\n",
    "earning_per_share = [9, 15, 40, 2]"
   ]
  },
  {
   "cell_type": "code",
   "execution_count": 27,
   "id": "d4efd406-23b9-49da-be1a-fa105c7115b6",
   "metadata": {},
   "outputs": [
    {
     "data": {
      "text/plain": [
       "((100, 9), (120, 15), (80, 40), (50, 2))"
      ]
     },
     "execution_count": 27,
     "metadata": {},
     "output_type": "execute_result"
    }
   ],
   "source": [
    "tuple(zip(price, earning_per_share))"
   ]
  },
  {
   "cell_type": "code",
   "execution_count": 29,
   "id": "aa405e7d-86a4-4505-8066-6f5104bcd419",
   "metadata": {},
   "outputs": [
    {
     "data": {
      "text/plain": [
       "[11.11111111111111, 8.0, 2.0, 25.0]"
      ]
     },
     "execution_count": 29,
     "metadata": {},
     "output_type": "execute_result"
    }
   ],
   "source": [
    "pe = []\n",
    "\n",
    "for p, e in zip(price, earning_per_share):\n",
    "    pe.append(p/e)\n",
    "pe"
   ]
  },
  {
   "cell_type": "code",
   "execution_count": 31,
   "id": "9ba00b0e-7008-4ed3-9d23-cf52baf30718",
   "metadata": {},
   "outputs": [
    {
     "data": {
      "text/plain": [
       "[11.11111111111111, 8.0, 2.0, 25.0]"
      ]
     },
     "execution_count": 31,
     "metadata": {},
     "output_type": "execute_result"
    }
   ],
   "source": [
    "pe = [p/e for p, e in zip(price, earning_per_share)]\n",
    "pe"
   ]
  },
  {
   "cell_type": "code",
   "execution_count": 33,
   "id": "89d855e1-cdfd-4851-940c-3b299a7a73fe",
   "metadata": {},
   "outputs": [
    {
     "data": {
      "text/plain": [
       "[-1, 8.0, 2.0, 25.0]"
      ]
     },
     "execution_count": 33,
     "metadata": {},
     "output_type": "execute_result"
    }
   ],
   "source": [
    "price = [100,120,80,50]\n",
    "earning_per_share = [0, 15, 40, 2]\n",
    "\n",
    "pe = [p/e if e!=0 else -1 for p, e in zip(price, earning_per_share)]\n",
    "pe"
   ]
  },
  {
   "cell_type": "code",
   "execution_count": 37,
   "id": "3b59678d-4ed0-4911-9258-1396a661a0e2",
   "metadata": {},
   "outputs": [
    {
     "data": {
      "text/plain": [
       "[5, 6, 6, 4]"
      ]
     },
     "execution_count": 37,
     "metadata": {},
     "output_type": "execute_result"
    }
   ],
   "source": [
    "words = ['apple', 'banana', 'cherry', 'date']\n",
    "\n",
    "lengths = [len(word) for word in words]\n",
    "lengths"
   ]
  },
  {
   "cell_type": "code",
   "execution_count": 39,
   "id": "08d69a50-a274-4dac-b12f-7425cbe265ac",
   "metadata": {},
   "outputs": [
    {
     "data": {
      "text/plain": [
       "90.0"
      ]
     },
     "execution_count": 39,
     "metadata": {},
     "output_type": "execute_result"
    }
   ],
   "source": [
    "100*0.9"
   ]
  },
  {
   "cell_type": "code",
   "execution_count": 43,
   "id": "99d3ed95-2adc-4b46-af80-88eb653b3191",
   "metadata": {},
   "outputs": [
    {
     "data": {
      "text/plain": [
       "[100, 99, 135.0, 80, 180.0]"
      ]
     },
     "execution_count": 43,
     "metadata": {},
     "output_type": "execute_result"
    }
   ],
   "source": [
    "prices = [100, 99, 150, 80, 200]\n",
    "\n",
    "new_prices = [price*0.9 if price > 100 else price for price in prices]\n",
    "new_prices"
   ]
  },
  {
   "cell_type": "code",
   "execution_count": null,
   "id": "47c59579-2a98-47f2-9264-f542dbcf4238",
   "metadata": {},
   "outputs": [],
   "source": []
  },
  {
   "cell_type": "code",
   "execution_count": 45,
   "id": "70c41a15-8dc5-4aa0-80b6-8d566e3e7a88",
   "metadata": {},
   "outputs": [
    {
     "data": {
      "text/plain": [
       "{'Alice': 25, 'Bob': 30, 'Charlie': 35}"
      ]
     },
     "execution_count": 45,
     "metadata": {},
     "output_type": "execute_result"
    }
   ],
   "source": [
    "names = ['Alice', 'Bob', 'Charlie']\n",
    "ages = [25, 30, 35]\n",
    "\n",
    "name_age_dict = {names[i]:ages[i] for i in range(len(names))}\n",
    "name_age_dict"
   ]
  },
  {
   "cell_type": "code",
   "execution_count": null,
   "id": "d93bb62f-ef3c-4ccd-a715-7420023d2f74",
   "metadata": {},
   "outputs": [],
   "source": []
  },
  {
   "cell_type": "code",
   "execution_count": 47,
   "id": "111d1f1e-e802-4e1b-971b-8817afbeaef1",
   "metadata": {},
   "outputs": [
    {
     "name": "stdout",
     "output_type": "stream",
     "text": [
      "{3}\n"
     ]
    }
   ],
   "source": [
    "a ={1,2,3}\n",
    "b= {3,4,5}\n",
    "print(a & b)"
   ]
  },
  {
   "cell_type": "code",
   "execution_count": null,
   "id": "c247ec21-eaa2-451a-8048-874ca38d98dc",
   "metadata": {},
   "outputs": [],
   "source": []
  },
  {
   "cell_type": "code",
   "execution_count": null,
   "id": "1ac0f1d1-de1d-452d-833d-c565433b3ae0",
   "metadata": {},
   "outputs": [],
   "source": []
  },
  {
   "cell_type": "code",
   "execution_count": null,
   "id": "a9d0b352-fb55-493e-8d16-736a67f29fe4",
   "metadata": {},
   "outputs": [],
   "source": []
  },
  {
   "cell_type": "code",
   "execution_count": null,
   "id": "ad0925a7-e6dd-44a1-9f41-44fded691857",
   "metadata": {},
   "outputs": [],
   "source": []
  },
  {
   "cell_type": "code",
   "execution_count": null,
   "id": "3b78af91-e505-4b03-a2a3-26f097678241",
   "metadata": {},
   "outputs": [],
   "source": []
  },
  {
   "cell_type": "code",
   "execution_count": null,
   "id": "64a5fa09-c40a-4f68-8cb8-5d76cf38148a",
   "metadata": {},
   "outputs": [],
   "source": []
  }
 ],
 "metadata": {
  "kernelspec": {
   "display_name": "Python 3 (ipykernel)",
   "language": "python",
   "name": "python3"
  },
  "language_info": {
   "codemirror_mode": {
    "name": "ipython",
    "version": 3
   },
   "file_extension": ".py",
   "mimetype": "text/x-python",
   "name": "python",
   "nbconvert_exporter": "python",
   "pygments_lexer": "ipython3",
   "version": "3.12.4"
  }
 },
 "nbformat": 4,
 "nbformat_minor": 5
}
