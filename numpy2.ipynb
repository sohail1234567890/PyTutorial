{
 "cells": [
  {
   "cell_type": "code",
   "execution_count": 2,
   "id": "545cc8b0-aeef-46c7-a480-d3cd5b77f4e3",
   "metadata": {},
   "outputs": [],
   "source": [
    "import numpy as np"
   ]
  },
  {
   "cell_type": "code",
   "execution_count": 4,
   "id": "2335f1be-5b06-47b2-a8fb-c38579809849",
   "metadata": {},
   "outputs": [
    {
     "data": {
      "text/plain": [
       "1"
      ]
     },
     "execution_count": 4,
     "metadata": {},
     "output_type": "execute_result"
    }
   ],
   "source": [
    "rev_q1 = np.array([10,12,9])\n",
    "rev_q1.ndim"
   ]
  },
  {
   "cell_type": "code",
   "execution_count": 6,
   "id": "f03b7c8f-6a4b-4dbc-9305-28cf3bc9320d",
   "metadata": {},
   "outputs": [
    {
     "data": {
      "text/plain": [
       "2"
      ]
     },
     "execution_count": 6,
     "metadata": {},
     "output_type": "execute_result"
    }
   ],
   "source": [
    "rev = np.array([[10 ,12 ,9], [15, 11, 13]])\n",
    "rev.ndim"
   ]
  },
  {
   "cell_type": "code",
   "execution_count": 8,
   "id": "3d5fbb09-5569-492a-9582-a737f71bf873",
   "metadata": {},
   "outputs": [
    {
     "data": {
      "text/plain": [
       "array([[10, 12,  9],\n",
       "       [15, 11, 13]])"
      ]
     },
     "execution_count": 8,
     "metadata": {},
     "output_type": "execute_result"
    }
   ],
   "source": [
    "rev"
   ]
  },
  {
   "cell_type": "code",
   "execution_count": 12,
   "id": "30417447-480d-45b3-91a4-fb113207169f",
   "metadata": {},
   "outputs": [
    {
     "data": {
      "text/plain": [
       "15"
      ]
     },
     "execution_count": 12,
     "metadata": {},
     "output_type": "execute_result"
    }
   ],
   "source": [
    "rev[1,0]"
   ]
  },
  {
   "cell_type": "code",
   "execution_count": 39,
   "id": "df527c8c-754f-4d99-8453-0bde7dede143",
   "metadata": {},
   "outputs": [
    {
     "data": {
      "text/plain": [
       "array([[10, 12,  9],\n",
       "       [14, 11, 13]])"
      ]
     },
     "execution_count": 39,
     "metadata": {},
     "output_type": "execute_result"
    }
   ],
   "source": [
    "rev[1,0] = 14\n",
    "rev"
   ]
  },
  {
   "cell_type": "code",
   "execution_count": 41,
   "id": "eb5035eb-d58f-49da-9dde-569253fc3c81",
   "metadata": {},
   "outputs": [
    {
     "data": {
      "text/plain": [
       "dtype('int32')"
      ]
     },
     "execution_count": 41,
     "metadata": {},
     "output_type": "execute_result"
    }
   ],
   "source": [
    "rev.dtype"
   ]
  },
  {
   "cell_type": "code",
   "execution_count": 49,
   "id": "cef418be-2223-407a-8c48-3deef7ffc9ce",
   "metadata": {},
   "outputs": [
    {
     "data": {
      "text/plain": [
       "dtype('float64')"
      ]
     },
     "execution_count": 49,
     "metadata": {},
     "output_type": "execute_result"
    }
   ],
   "source": [
    "rev = np.array([[10,12,9],[15,11,13]], dtype=np.float64)\n",
    "rev.dtype"
   ]
  },
  {
   "cell_type": "code",
   "execution_count": 51,
   "id": "97a7019f-242b-401f-9bf5-30f184b44cef",
   "metadata": {},
   "outputs": [
    {
     "data": {
      "text/plain": [
       "8"
      ]
     },
     "execution_count": 51,
     "metadata": {},
     "output_type": "execute_result"
    }
   ],
   "source": [
    "rev.itemsize"
   ]
  },
  {
   "cell_type": "code",
   "execution_count": 53,
   "id": "6511d911-472b-403a-a461-28901b295e15",
   "metadata": {},
   "outputs": [
    {
     "data": {
      "text/plain": [
       "6"
      ]
     },
     "execution_count": 53,
     "metadata": {},
     "output_type": "execute_result"
    }
   ],
   "source": [
    "rev.size"
   ]
  },
  {
   "cell_type": "code",
   "execution_count": 55,
   "id": "90f872a3-95b9-4885-a382-0623f33bcc86",
   "metadata": {},
   "outputs": [
    {
     "data": {
      "text/plain": [
       "(2, 3)"
      ]
     },
     "execution_count": 55,
     "metadata": {},
     "output_type": "execute_result"
    }
   ],
   "source": [
    "rev.shape"
   ]
  },
  {
   "cell_type": "code",
   "execution_count": 57,
   "id": "45b0be64-f84e-45c8-908e-2cd8c1e15060",
   "metadata": {},
   "outputs": [
    {
     "data": {
      "text/plain": [
       "array([[10., 12.,  9.],\n",
       "       [15., 11., 13.]])"
      ]
     },
     "execution_count": 57,
     "metadata": {},
     "output_type": "execute_result"
    }
   ],
   "source": [
    "rev"
   ]
  },
  {
   "cell_type": "code",
   "execution_count": 61,
   "id": "1a981739-ec92-4486-be20-dcd176df4410",
   "metadata": {},
   "outputs": [
    {
     "data": {
      "text/plain": [
       "array([[ 9., 10., 12.],\n",
       "       [11., 13., 15.]])"
      ]
     },
     "execution_count": 61,
     "metadata": {},
     "output_type": "execute_result"
    }
   ],
   "source": [
    "np.sort(rev)"
   ]
  },
  {
   "cell_type": "code",
   "execution_count": 63,
   "id": "ccd4ec02-f913-4f99-810c-5c2e336fa10a",
   "metadata": {},
   "outputs": [
    {
     "data": {
      "text/plain": [
       "array([ 9., 10., 11., 12., 13., 15.])"
      ]
     },
     "execution_count": 63,
     "metadata": {},
     "output_type": "execute_result"
    }
   ],
   "source": [
    "np.sort(rev, axis=None)"
   ]
  },
  {
   "cell_type": "code",
   "execution_count": 65,
   "id": "f0339f77-4957-41bf-86ae-1077524cfb75",
   "metadata": {},
   "outputs": [
    {
     "data": {
      "text/plain": [
       "array([[0., 0., 0.],\n",
       "       [0., 0., 0.]])"
      ]
     },
     "execution_count": 65,
     "metadata": {},
     "output_type": "execute_result"
    }
   ],
   "source": [
    "np.zeros((2,3))"
   ]
  },
  {
   "cell_type": "code",
   "execution_count": 67,
   "id": "4a00440f-64ec-44c2-b52c-f2183032cfa0",
   "metadata": {},
   "outputs": [
    {
     "data": {
      "text/plain": [
       "array([[1., 1., 1.],\n",
       "       [1., 1., 1.],\n",
       "       [1., 1., 1.]])"
      ]
     },
     "execution_count": 67,
     "metadata": {},
     "output_type": "execute_result"
    }
   ],
   "source": [
    "np.ones((3,3))"
   ]
  },
  {
   "cell_type": "code",
   "execution_count": 75,
   "id": "56473baa-81a9-457f-884e-47992c358497",
   "metadata": {},
   "outputs": [
    {
     "data": {
      "text/plain": [
       "array([10, 12, 14, 16, 18, 20, 22, 24, 26, 28])"
      ]
     },
     "execution_count": 75,
     "metadata": {},
     "output_type": "execute_result"
    }
   ],
   "source": [
    "np.arange(10,30,2)"
   ]
  },
  {
   "cell_type": "code",
   "execution_count": 77,
   "id": "84d29bb0-827e-457a-a7b7-c6ae88ae5901",
   "metadata": {},
   "outputs": [
    {
     "data": {
      "text/plain": [
       "array([10. , 12.5, 15. , 17.5, 20. ])"
      ]
     },
     "execution_count": 77,
     "metadata": {},
     "output_type": "execute_result"
    }
   ],
   "source": [
    "np.linspace(10, 20, 5)"
   ]
  },
  {
   "cell_type": "code",
   "execution_count": 79,
   "id": "5a6d9088-275b-481c-904e-6d935ed06111",
   "metadata": {},
   "outputs": [
    {
     "data": {
      "text/plain": [
       "array([10.        , 10.52631579, 11.05263158, 11.57894737, 12.10526316,\n",
       "       12.63157895, 13.15789474, 13.68421053, 14.21052632, 14.73684211,\n",
       "       15.26315789, 15.78947368, 16.31578947, 16.84210526, 17.36842105,\n",
       "       17.89473684, 18.42105263, 18.94736842, 19.47368421, 20.        ])"
      ]
     },
     "execution_count": 79,
     "metadata": {},
     "output_type": "execute_result"
    }
   ],
   "source": [
    "np.linspace(10, 20, 20)"
   ]
  },
  {
   "cell_type": "code",
   "execution_count": 81,
   "id": "77293f26-a510-4911-b2b2-eb8e39fef48f",
   "metadata": {},
   "outputs": [
    {
     "data": {
      "text/plain": [
       "array([[10., 12.,  9.],\n",
       "       [15., 11., 13.]])"
      ]
     },
     "execution_count": 81,
     "metadata": {},
     "output_type": "execute_result"
    }
   ],
   "source": [
    "rev"
   ]
  },
  {
   "cell_type": "code",
   "execution_count": 83,
   "id": "30d300ad-1370-434c-af71-25619338628e",
   "metadata": {},
   "outputs": [
    {
     "data": {
      "text/plain": [
       "array([10., 12.,  9., 15., 11., 13.])"
      ]
     },
     "execution_count": 83,
     "metadata": {},
     "output_type": "execute_result"
    }
   ],
   "source": [
    "rev.flatten()"
   ]
  },
  {
   "cell_type": "code",
   "execution_count": 85,
   "id": "fb2f47a3-5935-4519-9543-84c795e83d91",
   "metadata": {},
   "outputs": [
    {
     "data": {
      "text/plain": [
       "9.0"
      ]
     },
     "execution_count": 85,
     "metadata": {},
     "output_type": "execute_result"
    }
   ],
   "source": [
    "rev.min()"
   ]
  },
  {
   "cell_type": "code",
   "execution_count": 87,
   "id": "14a230db-d91c-4e20-a823-2f8586670879",
   "metadata": {},
   "outputs": [
    {
     "data": {
      "text/plain": [
       "15.0"
      ]
     },
     "execution_count": 87,
     "metadata": {},
     "output_type": "execute_result"
    }
   ],
   "source": [
    "rev.max()"
   ]
  },
  {
   "cell_type": "code",
   "execution_count": 89,
   "id": "5a52bfc9-5290-4652-9de2-a404a0fc28a9",
   "metadata": {},
   "outputs": [
    {
     "data": {
      "text/plain": [
       "array([31., 39.])"
      ]
     },
     "execution_count": 89,
     "metadata": {},
     "output_type": "execute_result"
    }
   ],
   "source": [
    "rev.sum(axis=1)"
   ]
  },
  {
   "cell_type": "code",
   "execution_count": 91,
   "id": "892cacb5-df45-4b97-8358-142b69dd74e2",
   "metadata": {},
   "outputs": [
    {
     "name": "stdout",
     "output_type": "stream",
     "text": [
      "row:_>  [10. 12.  9.]\n",
      "row:_>  [15. 11. 13.]\n"
     ]
    }
   ],
   "source": [
    "for row in rev:\n",
    "    print(\"row:_> \",row)"
   ]
  },
  {
   "cell_type": "code",
   "execution_count": 97,
   "id": "84bc08e4-691b-410b-b89f-fae04185b6b6",
   "metadata": {},
   "outputs": [],
   "source": [
    "b = np.array([1,4,16])"
   ]
  },
  {
   "cell_type": "code",
   "execution_count": 99,
   "id": "229cdf65-f445-4216-a640-b4ad653c1d36",
   "metadata": {},
   "outputs": [
    {
     "data": {
      "text/plain": [
       "array([1., 2., 4.])"
      ]
     },
     "execution_count": 99,
     "metadata": {},
     "output_type": "execute_result"
    }
   ],
   "source": [
    "np.sqrt(b)"
   ]
  },
  {
   "cell_type": "code",
   "execution_count": 101,
   "id": "7fceb0be-89de-4481-aa78-1c766e283813",
   "metadata": {},
   "outputs": [
    {
     "data": {
      "text/plain": [
       "array([  1,  16, 256])"
      ]
     },
     "execution_count": 101,
     "metadata": {},
     "output_type": "execute_result"
    }
   ],
   "source": [
    "np.square(b)"
   ]
  },
  {
   "cell_type": "code",
   "execution_count": 103,
   "id": "f28ce937-42a8-4169-8c2a-6ca613bef8f4",
   "metadata": {},
   "outputs": [
    {
     "data": {
      "text/plain": [
       "6.48074069840786"
      ]
     },
     "execution_count": 103,
     "metadata": {},
     "output_type": "execute_result"
    }
   ],
   "source": [
    "np.std(b)"
   ]
  },
  {
   "cell_type": "code",
   "execution_count": 106,
   "id": "bb9cf025-fb66-48b7-a9cc-d5a3d9ede688",
   "metadata": {},
   "outputs": [
    {
     "data": {
      "text/plain": [
       "array([[0., 0., 0., 0.],\n",
       "       [0., 0., 0., 0.],\n",
       "       [0., 0., 0., 0.]])"
      ]
     },
     "execution_count": 106,
     "metadata": {},
     "output_type": "execute_result"
    }
   ],
   "source": [
    "np.zeros((3,4))"
   ]
  },
  {
   "cell_type": "code",
   "execution_count": null,
   "id": "b5516728-2772-4676-a897-4560e2f31dfd",
   "metadata": {},
   "outputs": [],
   "source": []
  },
  {
   "cell_type": "code",
   "execution_count": null,
   "id": "5a07d20c-bbac-4802-9b6a-ba8ab79d92bb",
   "metadata": {},
   "outputs": [],
   "source": []
  }
 ],
 "metadata": {
  "kernelspec": {
   "display_name": "Python 3 (ipykernel)",
   "language": "python",
   "name": "python3"
  },
  "language_info": {
   "codemirror_mode": {
    "name": "ipython",
    "version": 3
   },
   "file_extension": ".py",
   "mimetype": "text/x-python",
   "name": "python",
   "nbconvert_exporter": "python",
   "pygments_lexer": "ipython3",
   "version": "3.12.4"
  }
 },
 "nbformat": 4,
 "nbformat_minor": 5
}
