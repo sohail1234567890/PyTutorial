{
 "cells": [
  {
   "cell_type": "code",
   "execution_count": 1,
   "id": "f18b0131-874c-490b-83bb-6979a42a064d",
   "metadata": {},
   "outputs": [],
   "source": [
    "first = 'Mohan'\n",
    "last = 'Sharma'"
   ]
  },
  {
   "cell_type": "code",
   "execution_count": 3,
   "id": "3dcb51a6-f0d3-4707-862b-0d638aa30582",
   "metadata": {},
   "outputs": [
    {
     "data": {
      "text/plain": [
       "str"
      ]
     },
     "execution_count": 3,
     "metadata": {},
     "output_type": "execute_result"
    }
   ],
   "source": [
    "type(first)"
   ]
  },
  {
   "cell_type": "code",
   "execution_count": 5,
   "id": "ea181c94-98af-4743-bb6f-e0798d6a5f7d",
   "metadata": {},
   "outputs": [
    {
     "data": {
      "text/plain": [
       "str"
      ]
     },
     "execution_count": 5,
     "metadata": {},
     "output_type": "execute_result"
    }
   ],
   "source": [
    "type(last)"
   ]
  },
  {
   "cell_type": "code",
   "execution_count": 7,
   "id": "a04af54f-cf0e-4662-96df-09a1f1298a5c",
   "metadata": {},
   "outputs": [
    {
     "data": {
      "text/plain": [
       "'MohanSharma'"
      ]
     },
     "execution_count": 7,
     "metadata": {},
     "output_type": "execute_result"
    }
   ],
   "source": [
    "name = first+last\n",
    "name"
   ]
  },
  {
   "cell_type": "code",
   "execution_count": 11,
   "id": "137f55e3-bbca-43b6-8bc1-089fd3e2c53f",
   "metadata": {},
   "outputs": [
    {
     "data": {
      "text/plain": [
       "'Mohan Sharma'"
      ]
     },
     "execution_count": 11,
     "metadata": {},
     "output_type": "execute_result"
    }
   ],
   "source": [
    "name = first+' '+last\n",
    "name"
   ]
  },
  {
   "cell_type": "code",
   "execution_count": 13,
   "id": "e7b0bb2c-cf53-4917-95f6-34a2fca66d0a",
   "metadata": {},
   "outputs": [
    {
     "data": {
      "text/plain": [
       "'Mohan Sharma'"
      ]
     },
     "execution_count": 13,
     "metadata": {},
     "output_type": "execute_result"
    }
   ],
   "source": [
    "name = f\"{first} {last}\"\n",
    "name"
   ]
  },
  {
   "cell_type": "code",
   "execution_count": 19,
   "id": "5c00d678-2b5f-413f-8d74-3fcbaa9159f2",
   "metadata": {},
   "outputs": [
    {
     "data": {
      "text/plain": [
       "'Mohan Sharma is 28 years old '"
      ]
     },
     "execution_count": 19,
     "metadata": {},
     "output_type": "execute_result"
    }
   ],
   "source": [
    "age = 28\n",
    "info = f\"{first} {last} is {age} years old \"\n",
    "info"
   ]
  },
  {
   "cell_type": "code",
   "execution_count": 32,
   "id": "8ef2bf5a-2ad5-4110-95ce-c37e4389b7ae",
   "metadata": {},
   "outputs": [
    {
     "data": {
      "text/plain": [
       "'Mohan Sharma'"
      ]
     },
     "execution_count": 32,
     "metadata": {},
     "output_type": "execute_result"
    }
   ],
   "source": [
    "name"
   ]
  },
  {
   "cell_type": "code",
   "execution_count": 35,
   "id": "f3595d1a-c509-4a4c-ab9a-a5ea420fe098",
   "metadata": {},
   "outputs": [
    {
     "data": {
      "text/plain": [
       "'M'"
      ]
     },
     "execution_count": 35,
     "metadata": {},
     "output_type": "execute_result"
    }
   ],
   "source": [
    "name[0]"
   ]
  },
  {
   "cell_type": "code",
   "execution_count": 37,
   "id": "2a517611-9d7a-4628-a059-50e054972571",
   "metadata": {},
   "outputs": [
    {
     "data": {
      "text/plain": [
       "'o'"
      ]
     },
     "execution_count": 37,
     "metadata": {},
     "output_type": "execute_result"
    }
   ],
   "source": [
    "name[1]"
   ]
  },
  {
   "cell_type": "code",
   "execution_count": 39,
   "id": "454d8295-7739-40f0-bcce-7720c1d7b2cf",
   "metadata": {},
   "outputs": [
    {
     "data": {
      "text/plain": [
       "'Mohan'"
      ]
     },
     "execution_count": 39,
     "metadata": {},
     "output_type": "execute_result"
    }
   ],
   "source": [
    "name[0:5]"
   ]
  },
  {
   "cell_type": "code",
   "execution_count": 41,
   "id": "66a8c039-95fa-4525-a3a2-582a032ef231",
   "metadata": {},
   "outputs": [
    {
     "data": {
      "text/plain": [
       "'Sharma'"
      ]
     },
     "execution_count": 41,
     "metadata": {},
     "output_type": "execute_result"
    }
   ],
   "source": [
    "name[6:12]"
   ]
  },
  {
   "cell_type": "code",
   "execution_count": 43,
   "id": "90570121-8efc-4658-9412-2bba244d1c5e",
   "metadata": {},
   "outputs": [
    {
     "data": {
      "text/plain": [
       "'Sharma'"
      ]
     },
     "execution_count": 43,
     "metadata": {},
     "output_type": "execute_result"
    }
   ],
   "source": [
    "name[6:]"
   ]
  },
  {
   "cell_type": "code",
   "execution_count": 45,
   "id": "3fe5ef0e-3c61-47ca-92a9-1d4703ab4793",
   "metadata": {},
   "outputs": [
    {
     "data": {
      "text/plain": [
       "'S'"
      ]
     },
     "execution_count": 45,
     "metadata": {},
     "output_type": "execute_result"
    }
   ],
   "source": [
    "name[6]"
   ]
  },
  {
   "cell_type": "code",
   "execution_count": 47,
   "id": "286a71b8-ee3d-46ed-925e-a55594f050f1",
   "metadata": {},
   "outputs": [
    {
     "data": {
      "text/plain": [
       "'Mohan '"
      ]
     },
     "execution_count": 47,
     "metadata": {},
     "output_type": "execute_result"
    }
   ],
   "source": [
    "name[:6]"
   ]
  },
  {
   "cell_type": "code",
   "execution_count": 49,
   "id": "05092575-c9dc-4888-b61d-44ed05b792b4",
   "metadata": {},
   "outputs": [
    {
     "data": {
      "text/plain": [
       "12"
      ]
     },
     "execution_count": 49,
     "metadata": {},
     "output_type": "execute_result"
    }
   ],
   "source": [
    "len(name)"
   ]
  },
  {
   "cell_type": "code",
   "execution_count": 53,
   "id": "4c53bdae-6d28-48a5-bf4f-31e5cf3e18cb",
   "metadata": {},
   "outputs": [
    {
     "data": {
      "text/plain": [
       "'Mohan Sharma'"
      ]
     },
     "execution_count": 53,
     "metadata": {},
     "output_type": "execute_result"
    }
   ],
   "source": [
    "name[:12]"
   ]
  },
  {
   "cell_type": "code",
   "execution_count": 55,
   "id": "684e9bc0-96a0-4b8f-977e-6069f9f23271",
   "metadata": {},
   "outputs": [
    {
     "ename": "IndexError",
     "evalue": "string index out of range",
     "output_type": "error",
     "traceback": [
      "\u001b[1;31m---------------------------------------------------------------------------\u001b[0m",
      "\u001b[1;31mIndexError\u001b[0m                                Traceback (most recent call last)",
      "Cell \u001b[1;32mIn[55], line 1\u001b[0m\n\u001b[1;32m----> 1\u001b[0m name[\u001b[38;5;241m12\u001b[39m]\n",
      "\u001b[1;31mIndexError\u001b[0m: string index out of range"
     ]
    }
   ],
   "source": [
    "name[12]"
   ]
  },
  {
   "cell_type": "code",
   "execution_count": 57,
   "id": "f2d6249c-f886-4e69-bacb-a5e81602ff81",
   "metadata": {},
   "outputs": [
    {
     "data": {
      "text/plain": [
       "'\\nVeg biryani with saffron , cardamom, and cloves, garnished with fried onions \\nand cilantro\\n'"
      ]
     },
     "execution_count": 57,
     "metadata": {},
     "output_type": "execute_result"
    }
   ],
   "source": [
    "recipe = '''\n",
    "Veg biryani with saffron , cardamom, and cloves, garnished with fried onions \n",
    "and cilantro\n",
    "'''\n",
    "recipe"
   ]
  },
  {
   "cell_type": "code",
   "execution_count": 59,
   "id": "7fcaea47-870a-4b32-b995-eefb732ad571",
   "metadata": {},
   "outputs": [
    {
     "name": "stdout",
     "output_type": "stream",
     "text": [
      "\n",
      "Veg biryani with saffron , cardamom, and cloves, garnished with fried onions \n",
      "and cilantro\n",
      "\n"
     ]
    }
   ],
   "source": [
    "print(recipe)"
   ]
  },
  {
   "cell_type": "code",
   "execution_count": 61,
   "id": "2b03e6f9-62c4-4514-9158-f5550a792f23",
   "metadata": {},
   "outputs": [
    {
     "data": {
      "text/plain": [
       "True"
      ]
     },
     "execution_count": 61,
     "metadata": {},
     "output_type": "execute_result"
    }
   ],
   "source": [
    "spice = \"cardamom\"\n",
    "spice in recipe"
   ]
  },
  {
   "cell_type": "code",
   "execution_count": 63,
   "id": "81b35a9a-f94e-4d30-8e70-fad2deb8f380",
   "metadata": {},
   "outputs": [
    {
     "data": {
      "text/plain": [
       "False"
      ]
     },
     "execution_count": 63,
     "metadata": {},
     "output_type": "execute_result"
    }
   ],
   "source": [
    "\"milk\" in recipe"
   ]
  },
  {
   "cell_type": "code",
   "execution_count": 65,
   "id": "067aae44-7eac-4b9b-9c1d-c616b4849d55",
   "metadata": {},
   "outputs": [
    {
     "data": {
      "text/plain": [
       "28"
      ]
     },
     "execution_count": 65,
     "metadata": {},
     "output_type": "execute_result"
    }
   ],
   "source": [
    "recipe.find(spice)"
   ]
  },
  {
   "cell_type": "code",
   "execution_count": 75,
   "id": "30cd23ab-0269-4132-8f19-43199f67dac0",
   "metadata": {},
   "outputs": [
    {
     "data": {
      "text/plain": [
       "'patient was charged 100$ for lab test '"
      ]
     },
     "execution_count": 75,
     "metadata": {},
     "output_type": "execute_result"
    }
   ],
   "source": [
    "s = \"patient was charged 100$ for lab test \"\n",
    "s"
   ]
  },
  {
   "cell_type": "code",
   "execution_count": 77,
   "id": "0437b5d4-3837-4bae-960d-33f2680d385b",
   "metadata": {},
   "outputs": [
    {
     "data": {
      "text/plain": [
       "['__add__',\n",
       " '__class__',\n",
       " '__contains__',\n",
       " '__delattr__',\n",
       " '__dir__',\n",
       " '__doc__',\n",
       " '__eq__',\n",
       " '__format__',\n",
       " '__ge__',\n",
       " '__getattribute__',\n",
       " '__getitem__',\n",
       " '__getnewargs__',\n",
       " '__getstate__',\n",
       " '__gt__',\n",
       " '__hash__',\n",
       " '__init__',\n",
       " '__init_subclass__',\n",
       " '__iter__',\n",
       " '__le__',\n",
       " '__len__',\n",
       " '__lt__',\n",
       " '__mod__',\n",
       " '__mul__',\n",
       " '__ne__',\n",
       " '__new__',\n",
       " '__reduce__',\n",
       " '__reduce_ex__',\n",
       " '__repr__',\n",
       " '__rmod__',\n",
       " '__rmul__',\n",
       " '__setattr__',\n",
       " '__sizeof__',\n",
       " '__str__',\n",
       " '__subclasshook__',\n",
       " 'capitalize',\n",
       " 'casefold',\n",
       " 'center',\n",
       " 'count',\n",
       " 'encode',\n",
       " 'endswith',\n",
       " 'expandtabs',\n",
       " 'find',\n",
       " 'format',\n",
       " 'format_map',\n",
       " 'index',\n",
       " 'isalnum',\n",
       " 'isalpha',\n",
       " 'isascii',\n",
       " 'isdecimal',\n",
       " 'isdigit',\n",
       " 'isidentifier',\n",
       " 'islower',\n",
       " 'isnumeric',\n",
       " 'isprintable',\n",
       " 'isspace',\n",
       " 'istitle',\n",
       " 'isupper',\n",
       " 'join',\n",
       " 'ljust',\n",
       " 'lower',\n",
       " 'lstrip',\n",
       " 'maketrans',\n",
       " 'partition',\n",
       " 'removeprefix',\n",
       " 'removesuffix',\n",
       " 'replace',\n",
       " 'rfind',\n",
       " 'rindex',\n",
       " 'rjust',\n",
       " 'rpartition',\n",
       " 'rsplit',\n",
       " 'rstrip',\n",
       " 'split',\n",
       " 'splitlines',\n",
       " 'startswith',\n",
       " 'strip',\n",
       " 'swapcase',\n",
       " 'title',\n",
       " 'translate',\n",
       " 'upper',\n",
       " 'zfill']"
      ]
     },
     "execution_count": 77,
     "metadata": {},
     "output_type": "execute_result"
    }
   ],
   "source": [
    "dir(s)"
   ]
  },
  {
   "cell_type": "code",
   "execution_count": 79,
   "id": "08bf1f6d-257d-4fb5-9528-2c345d10dadd",
   "metadata": {},
   "outputs": [],
   "source": [
    "s=s.replace(\"100$\",\"10$\")"
   ]
  },
  {
   "cell_type": "code",
   "execution_count": 81,
   "id": "511512e1-806b-4504-9fc9-242b14a2ec5d",
   "metadata": {},
   "outputs": [
    {
     "data": {
      "text/plain": [
       "'patient was charged 10$ for lab test '"
      ]
     },
     "execution_count": 81,
     "metadata": {},
     "output_type": "execute_result"
    }
   ],
   "source": [
    "s"
   ]
  },
  {
   "cell_type": "code",
   "execution_count": 83,
   "id": "8d606dc7-8536-4328-ab52-44b821421805",
   "metadata": {},
   "outputs": [
    {
     "data": {
      "text/plain": [
       "'PATIENT WAS CHARGED 10$ FOR LAB TEST '"
      ]
     },
     "execution_count": 83,
     "metadata": {},
     "output_type": "execute_result"
    }
   ],
   "source": [
    "s.upper()"
   ]
  },
  {
   "cell_type": "code",
   "execution_count": 85,
   "id": "a7b7351e-487e-4bef-8228-5cfab3c761a6",
   "metadata": {},
   "outputs": [
    {
     "data": {
      "text/plain": [
       "'abc'"
      ]
     },
     "execution_count": 85,
     "metadata": {},
     "output_type": "execute_result"
    }
   ],
   "source": [
    "a=\"ABC\"\n",
    "a.lower()"
   ]
  },
  {
   "cell_type": "code",
   "execution_count": 87,
   "id": "5a711ad4-e582-462a-908a-58e6a193f429",
   "metadata": {},
   "outputs": [
    {
     "data": {
      "text/plain": [
       "False"
      ]
     },
     "execution_count": 87,
     "metadata": {},
     "output_type": "execute_result"
    }
   ],
   "source": [
    "'4a10'.isdigit()"
   ]
  },
  {
   "cell_type": "code",
   "execution_count": 89,
   "id": "0101975f-ba88-4ff6-b307-5b1e9bccde65",
   "metadata": {},
   "outputs": [
    {
     "data": {
      "text/plain": [
       "'patient was charged 10$ for lab test '"
      ]
     },
     "execution_count": 89,
     "metadata": {},
     "output_type": "execute_result"
    }
   ],
   "source": [
    "s"
   ]
  },
  {
   "cell_type": "code",
   "execution_count": 100,
   "id": "e977a067-0c1a-4e54-a999-43b249556c3c",
   "metadata": {},
   "outputs": [
    {
     "data": {
      "text/plain": [
       "20"
      ]
     },
     "execution_count": 100,
     "metadata": {},
     "output_type": "execute_result"
    }
   ],
   "source": [
    "s.index('10$')"
   ]
  },
  {
   "cell_type": "code",
   "execution_count": 102,
   "id": "d850a27d-0c11-420d-ac23-15cb49419f25",
   "metadata": {},
   "outputs": [
    {
     "ename": "TypeError",
     "evalue": "can only concatenate str (not \"int\") to str",
     "output_type": "error",
     "traceback": [
      "\u001b[1;31m---------------------------------------------------------------------------\u001b[0m",
      "\u001b[1;31mTypeError\u001b[0m                                 Traceback (most recent call last)",
      "Cell \u001b[1;32mIn[102], line 4\u001b[0m\n\u001b[0;32m      1\u001b[0m text\u001b[38;5;241m=\u001b[39m\u001b[38;5;124m\"\u001b[39m\u001b[38;5;124mmy age is:\u001b[39m\u001b[38;5;124m\"\u001b[39m\n\u001b[0;32m      2\u001b[0m age\u001b[38;5;241m=\u001b[39m\u001b[38;5;241m38\u001b[39m\n\u001b[1;32m----> 4\u001b[0m text \u001b[38;5;241m+\u001b[39m age\n",
      "\u001b[1;31mTypeError\u001b[0m: can only concatenate str (not \"int\") to str"
     ]
    }
   ],
   "source": [
    "text=\"my age is:\"\n",
    "age=38\n",
    "\n",
    "text + age"
   ]
  },
  {
   "cell_type": "code",
   "execution_count": 104,
   "id": "bfb8d0e1-2067-496c-96a7-6d8f3d7e3a47",
   "metadata": {},
   "outputs": [
    {
     "data": {
      "text/plain": [
       "'\\nVeg biryani with saffron , cardamom, and cloves, garnished with fried onions \\nand cilantro\\n'"
      ]
     },
     "execution_count": 104,
     "metadata": {},
     "output_type": "execute_result"
    }
   ],
   "source": [
    "recipe"
   ]
  },
  {
   "cell_type": "code",
   "execution_count": 106,
   "id": "03c25592-9c20-424d-b428-acf872e47976",
   "metadata": {},
   "outputs": [
    {
     "data": {
      "text/plain": [
       "'hey\\tbro'"
      ]
     },
     "execution_count": 106,
     "metadata": {},
     "output_type": "execute_result"
    }
   ],
   "source": [
    "s=\"hey\\tbro\"\n",
    "s"
   ]
  },
  {
   "cell_type": "code",
   "execution_count": 108,
   "id": "3508d403-5b06-40c0-a238-ff09a36d942e",
   "metadata": {},
   "outputs": [
    {
     "name": "stdout",
     "output_type": "stream",
     "text": [
      "hey\tbro\n"
     ]
    }
   ],
   "source": [
    "print(s)"
   ]
  },
  {
   "cell_type": "code",
   "execution_count": 116,
   "id": "87d28a60-019d-4bac-9a1b-b7c620507934",
   "metadata": {},
   "outputs": [
    {
     "data": {
      "text/plain": [
       "['AAPL', 'NVDA', 'RIL', 'GOGL']"
      ]
     },
     "execution_count": 116,
     "metadata": {},
     "output_type": "execute_result"
    }
   ],
   "source": [
    "tickers=\"AAPL|NVDA|RIL|GOGL\"\n",
    "tickers.split(\"|\")"
   ]
  },
  {
   "cell_type": "code",
   "execution_count": 118,
   "id": "4bd18ff0-3dd7-4d09-aa8b-9b56a6ebe3d7",
   "metadata": {},
   "outputs": [
    {
     "data": {
      "text/plain": [
       "' hey we have to go there , you coming der ?'"
      ]
     },
     "execution_count": 118,
     "metadata": {},
     "output_type": "execute_result"
    }
   ],
   "source": [
    "data = \" hey we have to go there , you coming der ?\"\n",
    "data"
   ]
  },
  {
   "cell_type": "code",
   "execution_count": 120,
   "id": "44a8685b-183d-4d0e-ae92-4cc3008fed78",
   "metadata": {},
   "outputs": [
    {
     "data": {
      "text/plain": [
       "'hey we have to go there , you coming der ?'"
      ]
     },
     "execution_count": 120,
     "metadata": {},
     "output_type": "execute_result"
    }
   ],
   "source": [
    "data.strip()"
   ]
  },
  {
   "cell_type": "code",
   "execution_count": null,
   "id": "152e7582-429f-444c-8bb4-821b3a4271fe",
   "metadata": {},
   "outputs": [],
   "source": []
  },
  {
   "cell_type": "code",
   "execution_count": null,
   "id": "6a279955-b7af-4714-beba-6f627aaa6491",
   "metadata": {},
   "outputs": [],
   "source": []
  }
 ],
 "metadata": {
  "kernelspec": {
   "display_name": "Python 3 (ipykernel)",
   "language": "python",
   "name": "python3"
  },
  "language_info": {
   "codemirror_mode": {
    "name": "ipython",
    "version": 3
   },
   "file_extension": ".py",
   "mimetype": "text/x-python",
   "name": "python",
   "nbconvert_exporter": "python",
   "pygments_lexer": "ipython3",
   "version": "3.12.4"
  }
 },
 "nbformat": 4,
 "nbformat_minor": 5
}
