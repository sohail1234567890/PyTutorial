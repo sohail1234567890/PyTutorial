{
 "cells": [
  {
   "cell_type": "code",
   "execution_count": 24,
   "id": "d3f020f2-7213-423a-b2b9-a9184df56866",
   "metadata": {},
   "outputs": [],
   "source": [
    "# Json string \n",
    "json_string = '''\n",
    "{\n",
    "    \"name\": \"malik\",\n",
    "    \"age\": 30,\n",
    "    \"is_employee\": true,\n",
    "    \"skills\": [\"Python\", \"Data Analysis\", \"Machine Learning\"]\n",
    "\n",
    "}'''"
   ]
  },
  {
   "cell_type": "code",
   "execution_count": 26,
   "id": "bfeabd92-0387-41d6-b171-97c782ee3941",
   "metadata": {},
   "outputs": [
    {
     "data": {
      "text/plain": [
       "str"
      ]
     },
     "execution_count": 26,
     "metadata": {},
     "output_type": "execute_result"
    }
   ],
   "source": [
    "type(json_string)"
   ]
  },
  {
   "cell_type": "code",
   "execution_count": 28,
   "id": "2e177ec1-bf13-4ee5-a80e-c4d04303aee4",
   "metadata": {},
   "outputs": [
    {
     "data": {
      "text/plain": [
       "{'name': 'malik',\n",
       " 'age': 30,\n",
       " 'is_employee': True,\n",
       " 'skills': ['Python', 'Data Analysis', 'Machine Learning']}"
      ]
     },
     "execution_count": 28,
     "metadata": {},
     "output_type": "execute_result"
    }
   ],
   "source": [
    "import json\n",
    "\n",
    "record = json.loads(json_string)\n",
    "record"
   ]
  },
  {
   "cell_type": "code",
   "execution_count": 30,
   "id": "a0c5cba6-c446-4731-b3f4-2a3d604c60b8",
   "metadata": {},
   "outputs": [
    {
     "data": {
      "text/plain": [
       "dict"
      ]
     },
     "execution_count": 30,
     "metadata": {},
     "output_type": "execute_result"
    }
   ],
   "source": [
    "type(record)"
   ]
  },
  {
   "cell_type": "code",
   "execution_count": 32,
   "id": "b23189f8-3f8a-4ebb-915d-f94d20525f0a",
   "metadata": {},
   "outputs": [
    {
     "data": {
      "text/plain": [
       "'malik'"
      ]
     },
     "execution_count": 32,
     "metadata": {},
     "output_type": "execute_result"
    }
   ],
   "source": [
    "record['name']"
   ]
  },
  {
   "cell_type": "code",
   "execution_count": 34,
   "id": "cb80a270-ca6f-4977-85bc-2938eab2b81a",
   "metadata": {},
   "outputs": [],
   "source": [
    "data = {\n",
    "    'name': 'Bob',\n",
    "    'age': 25,\n",
    "    'is_employee': False,\n",
    "    'skills': ['javaScript', 'Web Development'],\n",
    "    'address':{\n",
    "        'street': '456 Elm St',\n",
    "        'city': 'Springfield'\n",
    "    }\n",
    "}"
   ]
  },
  {
   "cell_type": "code",
   "execution_count": 36,
   "id": "d67a2952-71ef-43b6-9cee-10c81d8e9617",
   "metadata": {},
   "outputs": [
    {
     "data": {
      "text/plain": [
       "'{\"name\": \"Bob\", \"age\": 25, \"is_employee\": false, \"skills\": [\"javaScript\", \"Web Development\"], \"address\": {\"street\": \"456 Elm St\", \"city\": \"Springfield\"}}'"
      ]
     },
     "execution_count": 36,
     "metadata": {},
     "output_type": "execute_result"
    }
   ],
   "source": [
    "data_str = json.dumps(data)\n",
    "data_str"
   ]
  },
  {
   "cell_type": "code",
   "execution_count": 38,
   "id": "6689b8a4-524c-490f-93d3-596b81dcdf29",
   "metadata": {},
   "outputs": [
    {
     "data": {
      "text/plain": [
       "str"
      ]
     },
     "execution_count": 38,
     "metadata": {},
     "output_type": "execute_result"
    }
   ],
   "source": [
    "type(data_str)"
   ]
  },
  {
   "cell_type": "code",
   "execution_count": 40,
   "id": "7f5bbc42-0f81-4dfc-9af1-e6df694b0fb7",
   "metadata": {},
   "outputs": [],
   "source": [
    "with open('output.json', 'w') as f:\n",
    "    json.dump(data, f, indent=4)"
   ]
  },
  {
   "cell_type": "code",
   "execution_count": 46,
   "id": "00d7e251-0c24-4bb8-8138-4280e34aa157",
   "metadata": {},
   "outputs": [
    {
     "data": {
      "text/plain": [
       "[{'product_id': 1,\n",
       "  'sku': 'ABC123',\n",
       "  'name': 'Wireless Mouse',\n",
       "  'price': 25.99,\n",
       "  'description': 'A comfortable wireless mouse with ergonomic design.',\n",
       "  'in_stock': True,\n",
       "  'category': 'Electronics'},\n",
       " {'product_id': 2,\n",
       "  'sku': 'XYZ789',\n",
       "  'name': 'Mechanical Keyboard',\n",
       "  'price': 89.99,\n",
       "  'description': 'A high-quality mechanical keyboard with customizable keys.',\n",
       "  'in_stock': True,\n",
       "  'category': 'Electronics'},\n",
       " {'product_id': 3,\n",
       "  'sku': 'LMN456',\n",
       "  'name': 'USB-C Charger',\n",
       "  'price': 19.99,\n",
       "  'description': 'A fast-charging USB-C charger with multiple ports.',\n",
       "  'in_stock': False,\n",
       "  'category': 'Accessories'},\n",
       " {'product_id': 4,\n",
       "  'sku': 'QWE234',\n",
       "  'name': 'Bluetooth Speaker',\n",
       "  'price': 49.99,\n",
       "  'description': 'A portable Bluetooth speaker with excellent sound quality.',\n",
       "  'in_stock': True,\n",
       "  'category': 'Audio'},\n",
       " {'product_id': 5,\n",
       "  'sku': 'RTY678',\n",
       "  'name': 'Smartphone Stand',\n",
       "  'price': 14.99,\n",
       "  'description': 'An adjustable smartphone stand for hands-free viewing.',\n",
       "  'in_stock': True,\n",
       "  'category': 'Accessories'}]"
      ]
     },
     "execution_count": 46,
     "metadata": {},
     "output_type": "execute_result"
    }
   ],
   "source": [
    "with open('products.json', 'r') as file:\n",
    "    product = json.load(file)\n",
    "product"
   ]
  },
  {
   "cell_type": "code",
   "execution_count": 48,
   "id": "b2721ea6-60aa-4470-9066-ea1a2f51ee98",
   "metadata": {},
   "outputs": [
    {
     "data": {
      "text/plain": [
       "list"
      ]
     },
     "execution_count": 48,
     "metadata": {},
     "output_type": "execute_result"
    }
   ],
   "source": [
    "type(product)"
   ]
  },
  {
   "cell_type": "code",
   "execution_count": 56,
   "id": "ad97861f-eb94-4b16-84e4-e68ec0e84a59",
   "metadata": {},
   "outputs": [
    {
     "data": {
      "text/plain": [
       "25.99"
      ]
     },
     "execution_count": 56,
     "metadata": {},
     "output_type": "execute_result"
    }
   ],
   "source": [
    "product[0]['price']"
   ]
  },
  {
   "cell_type": "code",
   "execution_count": null,
   "id": "7eec33c9-4629-4f78-b661-a61c900cbe02",
   "metadata": {},
   "outputs": [],
   "source": []
  },
  {
   "cell_type": "code",
   "execution_count": 62,
   "id": "f3977985-a1b1-4d54-be00-11767418e9b7",
   "metadata": {},
   "outputs": [],
   "source": [
    "json_string = '''\n",
    "{\n",
    "    'books': [\n",
    "    {'title': 'The Magic Of Thinking Big', 'author': 'David J. Schwartz', 'published': 1959},\n",
    "    {'title': 'Chanakya Neeti', 'author':, 'B.K Chaturvedi', 'published': 2009},\n",
    "    {'title': 'How to Win Friends and Influence People', 'author': 'Dale Karnegie', 'published': 1936}\n",
    "    ],\n",
    "    'status_code': 200\n",
    "}'''"
   ]
  },
  {
   "cell_type": "code",
   "execution_count": 64,
   "id": "45b29e73-ddc3-43ea-a324-28bc5267b462",
   "metadata": {},
   "outputs": [
    {
     "ename": "JSONDecodeError",
     "evalue": "Expecting property name enclosed in double quotes: line 3 column 5 (char 7)",
     "output_type": "error",
     "traceback": [
      "\u001b[1;31m---------------------------------------------------------------------------\u001b[0m",
      "\u001b[1;31mJSONDecodeError\u001b[0m                           Traceback (most recent call last)",
      "Cell \u001b[1;32mIn[64], line 1\u001b[0m\n\u001b[1;32m----> 1\u001b[0m data \u001b[38;5;241m=\u001b[39m json\u001b[38;5;241m.\u001b[39mloads(json_string)\n\u001b[0;32m      2\u001b[0m data\n",
      "File \u001b[1;32m~\\anaconda3\\Lib\\json\\__init__.py:346\u001b[0m, in \u001b[0;36mloads\u001b[1;34m(s, cls, object_hook, parse_float, parse_int, parse_constant, object_pairs_hook, **kw)\u001b[0m\n\u001b[0;32m    341\u001b[0m     s \u001b[38;5;241m=\u001b[39m s\u001b[38;5;241m.\u001b[39mdecode(detect_encoding(s), \u001b[38;5;124m'\u001b[39m\u001b[38;5;124msurrogatepass\u001b[39m\u001b[38;5;124m'\u001b[39m)\n\u001b[0;32m    343\u001b[0m \u001b[38;5;28;01mif\u001b[39;00m (\u001b[38;5;28mcls\u001b[39m \u001b[38;5;129;01mis\u001b[39;00m \u001b[38;5;28;01mNone\u001b[39;00m \u001b[38;5;129;01mand\u001b[39;00m object_hook \u001b[38;5;129;01mis\u001b[39;00m \u001b[38;5;28;01mNone\u001b[39;00m \u001b[38;5;129;01mand\u001b[39;00m\n\u001b[0;32m    344\u001b[0m         parse_int \u001b[38;5;129;01mis\u001b[39;00m \u001b[38;5;28;01mNone\u001b[39;00m \u001b[38;5;129;01mand\u001b[39;00m parse_float \u001b[38;5;129;01mis\u001b[39;00m \u001b[38;5;28;01mNone\u001b[39;00m \u001b[38;5;129;01mand\u001b[39;00m\n\u001b[0;32m    345\u001b[0m         parse_constant \u001b[38;5;129;01mis\u001b[39;00m \u001b[38;5;28;01mNone\u001b[39;00m \u001b[38;5;129;01mand\u001b[39;00m object_pairs_hook \u001b[38;5;129;01mis\u001b[39;00m \u001b[38;5;28;01mNone\u001b[39;00m \u001b[38;5;129;01mand\u001b[39;00m \u001b[38;5;129;01mnot\u001b[39;00m kw):\n\u001b[1;32m--> 346\u001b[0m     \u001b[38;5;28;01mreturn\u001b[39;00m _default_decoder\u001b[38;5;241m.\u001b[39mdecode(s)\n\u001b[0;32m    347\u001b[0m \u001b[38;5;28;01mif\u001b[39;00m \u001b[38;5;28mcls\u001b[39m \u001b[38;5;129;01mis\u001b[39;00m \u001b[38;5;28;01mNone\u001b[39;00m:\n\u001b[0;32m    348\u001b[0m     \u001b[38;5;28mcls\u001b[39m \u001b[38;5;241m=\u001b[39m JSONDecoder\n",
      "File \u001b[1;32m~\\anaconda3\\Lib\\json\\decoder.py:337\u001b[0m, in \u001b[0;36mJSONDecoder.decode\u001b[1;34m(self, s, _w)\u001b[0m\n\u001b[0;32m    332\u001b[0m \u001b[38;5;28;01mdef\u001b[39;00m \u001b[38;5;21mdecode\u001b[39m(\u001b[38;5;28mself\u001b[39m, s, _w\u001b[38;5;241m=\u001b[39mWHITESPACE\u001b[38;5;241m.\u001b[39mmatch):\n\u001b[0;32m    333\u001b[0m \u001b[38;5;250m    \u001b[39m\u001b[38;5;124;03m\"\"\"Return the Python representation of ``s`` (a ``str`` instance\u001b[39;00m\n\u001b[0;32m    334\u001b[0m \u001b[38;5;124;03m    containing a JSON document).\u001b[39;00m\n\u001b[0;32m    335\u001b[0m \n\u001b[0;32m    336\u001b[0m \u001b[38;5;124;03m    \"\"\"\u001b[39;00m\n\u001b[1;32m--> 337\u001b[0m     obj, end \u001b[38;5;241m=\u001b[39m \u001b[38;5;28mself\u001b[39m\u001b[38;5;241m.\u001b[39mraw_decode(s, idx\u001b[38;5;241m=\u001b[39m_w(s, \u001b[38;5;241m0\u001b[39m)\u001b[38;5;241m.\u001b[39mend())\n\u001b[0;32m    338\u001b[0m     end \u001b[38;5;241m=\u001b[39m _w(s, end)\u001b[38;5;241m.\u001b[39mend()\n\u001b[0;32m    339\u001b[0m     \u001b[38;5;28;01mif\u001b[39;00m end \u001b[38;5;241m!=\u001b[39m \u001b[38;5;28mlen\u001b[39m(s):\n",
      "File \u001b[1;32m~\\anaconda3\\Lib\\json\\decoder.py:353\u001b[0m, in \u001b[0;36mJSONDecoder.raw_decode\u001b[1;34m(self, s, idx)\u001b[0m\n\u001b[0;32m    344\u001b[0m \u001b[38;5;250m\u001b[39m\u001b[38;5;124;03m\"\"\"Decode a JSON document from ``s`` (a ``str`` beginning with\u001b[39;00m\n\u001b[0;32m    345\u001b[0m \u001b[38;5;124;03ma JSON document) and return a 2-tuple of the Python\u001b[39;00m\n\u001b[0;32m    346\u001b[0m \u001b[38;5;124;03mrepresentation and the index in ``s`` where the document ended.\u001b[39;00m\n\u001b[1;32m   (...)\u001b[0m\n\u001b[0;32m    350\u001b[0m \n\u001b[0;32m    351\u001b[0m \u001b[38;5;124;03m\"\"\"\u001b[39;00m\n\u001b[0;32m    352\u001b[0m \u001b[38;5;28;01mtry\u001b[39;00m:\n\u001b[1;32m--> 353\u001b[0m     obj, end \u001b[38;5;241m=\u001b[39m \u001b[38;5;28mself\u001b[39m\u001b[38;5;241m.\u001b[39mscan_once(s, idx)\n\u001b[0;32m    354\u001b[0m \u001b[38;5;28;01mexcept\u001b[39;00m \u001b[38;5;167;01mStopIteration\u001b[39;00m \u001b[38;5;28;01mas\u001b[39;00m err:\n\u001b[0;32m    355\u001b[0m     \u001b[38;5;28;01mraise\u001b[39;00m JSONDecodeError(\u001b[38;5;124m\"\u001b[39m\u001b[38;5;124mExpecting value\u001b[39m\u001b[38;5;124m\"\u001b[39m, s, err\u001b[38;5;241m.\u001b[39mvalue) \u001b[38;5;28;01mfrom\u001b[39;00m \u001b[38;5;28;01mNone\u001b[39;00m\n",
      "\u001b[1;31mJSONDecodeError\u001b[0m: Expecting property name enclosed in double quotes: line 3 column 5 (char 7)"
     ]
    }
   ],
   "source": [
    "data = json.loads(json_string)\n",
    "data"
   ]
  },
  {
   "cell_type": "code",
   "execution_count": null,
   "id": "fa8c94f2-490d-4646-80aa-edecdc9dc5f0",
   "metadata": {},
   "outputs": [],
   "source": []
  },
  {
   "cell_type": "code",
   "execution_count": null,
   "id": "99782e1e-22aa-4b47-ac11-136ae34ad3e3",
   "metadata": {},
   "outputs": [],
   "source": []
  },
  {
   "cell_type": "code",
   "execution_count": null,
   "id": "25eb7769-e185-49f7-8ac9-10709c24cd40",
   "metadata": {},
   "outputs": [],
   "source": []
  },
  {
   "cell_type": "code",
   "execution_count": null,
   "id": "ff3cb3e9-ea84-43ac-b224-081dbb7513d1",
   "metadata": {},
   "outputs": [],
   "source": []
  },
  {
   "cell_type": "code",
   "execution_count": null,
   "id": "dc86aebf-5c50-4731-be5f-3ee2561b3d9a",
   "metadata": {},
   "outputs": [],
   "source": []
  }
 ],
 "metadata": {
  "kernelspec": {
   "display_name": "Python 3 (ipykernel)",
   "language": "python",
   "name": "python3"
  },
  "language_info": {
   "codemirror_mode": {
    "name": "ipython",
    "version": 3
   },
   "file_extension": ".py",
   "mimetype": "text/x-python",
   "name": "python",
   "nbconvert_exporter": "python",
   "pygments_lexer": "ipython3",
   "version": "3.12.4"
  }
 },
 "nbformat": 4,
 "nbformat_minor": 5
}
