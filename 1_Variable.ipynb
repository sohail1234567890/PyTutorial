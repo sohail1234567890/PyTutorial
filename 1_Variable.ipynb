{
 "cells": [
  {
   "cell_type": "code",
   "execution_count": 1,
   "id": "66c7549f-a6a2-4cb0-9ed5-e6f41f864ce0",
   "metadata": {},
   "outputs": [],
   "source": [
    "can='soda'"
   ]
  },
  {
   "cell_type": "code",
   "execution_count": 3,
   "id": "f460a50e-4597-4a5a-b392-37a548abf2ea",
   "metadata": {},
   "outputs": [
    {
     "data": {
      "text/plain": [
       "'soda'"
      ]
     },
     "execution_count": 3,
     "metadata": {},
     "output_type": "execute_result"
    }
   ],
   "source": [
    "can"
   ]
  },
  {
   "cell_type": "code",
   "execution_count": 5,
   "id": "347b9c30-2b95-4f30-a62b-eb6e8a4527cf",
   "metadata": {},
   "outputs": [],
   "source": [
    "can=\"beans\""
   ]
  },
  {
   "cell_type": "code",
   "execution_count": 7,
   "id": "b644e3ca-1e7a-4f43-b72b-3433455433d1",
   "metadata": {},
   "outputs": [
    {
     "data": {
      "text/plain": [
       "'beans'"
      ]
     },
     "execution_count": 7,
     "metadata": {},
     "output_type": "execute_result"
    }
   ],
   "source": [
    "can"
   ]
  },
  {
   "cell_type": "code",
   "execution_count": 9,
   "id": "2e91afc1-0427-4de1-ae04-812973ea0550",
   "metadata": {},
   "outputs": [
    {
     "name": "stdout",
     "output_type": "stream",
     "text": [
      "beans\n"
     ]
    }
   ],
   "source": [
    "print(can)"
   ]
  },
  {
   "cell_type": "code",
   "execution_count": 11,
   "id": "12670579-bceb-4eb4-9670-7676b6c3ded3",
   "metadata": {},
   "outputs": [
    {
     "data": {
      "text/plain": [
       "str"
      ]
     },
     "execution_count": 11,
     "metadata": {},
     "output_type": "execute_result"
    }
   ],
   "source": [
    "type(can)"
   ]
  },
  {
   "cell_type": "code",
   "execution_count": 13,
   "id": "c28c5dd3-4f37-437e-a95b-15e7ff1daf55",
   "metadata": {},
   "outputs": [
    {
     "data": {
      "text/plain": [
       "100"
      ]
     },
     "execution_count": 13,
     "metadata": {},
     "output_type": "execute_result"
    }
   ],
   "source": [
    "pizza=100\n",
    "pizza"
   ]
  },
  {
   "cell_type": "code",
   "execution_count": 15,
   "id": "73fb0d26-868e-4259-8795-85d244a46f94",
   "metadata": {},
   "outputs": [
    {
     "data": {
      "text/plain": [
       "int"
      ]
     },
     "execution_count": 15,
     "metadata": {},
     "output_type": "execute_result"
    }
   ],
   "source": [
    "type(pizza)"
   ]
  },
  {
   "cell_type": "code",
   "execution_count": 17,
   "id": "0a2bbeb7-8dbc-4636-96e5-c152bcceba9b",
   "metadata": {},
   "outputs": [],
   "source": [
    "samosa=20.5\n",
    "ice_cream=100"
   ]
  },
  {
   "cell_type": "code",
   "execution_count": 19,
   "id": "47ecc5a7-f72b-41f9-be78-8ebc2ff0be2a",
   "metadata": {},
   "outputs": [
    {
     "data": {
      "text/plain": [
       "220.5"
      ]
     },
     "execution_count": 19,
     "metadata": {},
     "output_type": "execute_result"
    }
   ],
   "source": [
    "total=pizza + samosa + ice_cream\n",
    "total"
   ]
  },
  {
   "cell_type": "code",
   "execution_count": 27,
   "id": "ac0e824e-a424-42fc-add2-44e405e830e3",
   "metadata": {},
   "outputs": [
    {
     "data": {
      "text/plain": [
       "float"
      ]
     },
     "execution_count": 27,
     "metadata": {},
     "output_type": "execute_result"
    }
   ],
   "source": [
    "type(total)"
   ]
  },
  {
   "cell_type": "code",
   "execution_count": 37,
   "id": "88896236-a1f3-477b-95fc-d672963749f0",
   "metadata": {},
   "outputs": [
    {
     "data": {
      "text/plain": [
       "True"
      ]
     },
     "execution_count": 37,
     "metadata": {},
     "output_type": "execute_result"
    }
   ],
   "source": [
    "above_thresold = total > 200\n",
    "above_thresold"
   ]
  },
  {
   "cell_type": "code",
   "execution_count": 39,
   "id": "cdc0721e-d683-4a95-9f67-5e8e50de5077",
   "metadata": {},
   "outputs": [],
   "source": [
    "can=6.7"
   ]
  },
  {
   "cell_type": "code",
   "execution_count": 41,
   "id": "b4eda52e-33ec-46c3-834c-5773d82343dd",
   "metadata": {},
   "outputs": [
    {
     "data": {
      "text/plain": [
       "'jalebi'"
      ]
     },
     "execution_count": 41,
     "metadata": {},
     "output_type": "execute_result"
    }
   ],
   "source": [
    "foo = \"jalebi\"\n",
    "foo"
   ]
  },
  {
   "cell_type": "code",
   "execution_count": 43,
   "id": "9635084f-afd1-4a0c-aa11-5c27918ba25e",
   "metadata": {},
   "outputs": [
    {
     "data": {
      "text/plain": [
       "'jalebi'"
      ]
     },
     "execution_count": 43,
     "metadata": {},
     "output_type": "execute_result"
    }
   ],
   "source": [
    "bar = foo\n",
    "bar"
   ]
  },
  {
   "cell_type": "code",
   "execution_count": 45,
   "id": "eecb0324-7044-4ab9-9f26-a93cf91fde3e",
   "metadata": {},
   "outputs": [
    {
     "data": {
      "text/plain": [
       "1200514874608"
      ]
     },
     "execution_count": 45,
     "metadata": {},
     "output_type": "execute_result"
    }
   ],
   "source": [
    "id(foo)"
   ]
  },
  {
   "cell_type": "code",
   "execution_count": 47,
   "id": "44eb59e7-dfd2-4430-84c3-f0e7f3357f22",
   "metadata": {},
   "outputs": [
    {
     "data": {
      "text/plain": [
       "1200514874608"
      ]
     },
     "execution_count": 47,
     "metadata": {},
     "output_type": "execute_result"
    }
   ],
   "source": [
    "id(bar)"
   ]
  },
  {
   "cell_type": "code",
   "execution_count": 49,
   "id": "f01ff1bb-4d38-4df0-a636-25b6cd048c0a",
   "metadata": {},
   "outputs": [],
   "source": [
    "bar='samosa'"
   ]
  },
  {
   "cell_type": "code",
   "execution_count": 51,
   "id": "ebf5e609-4123-48dd-8784-659f0bd007f4",
   "metadata": {},
   "outputs": [
    {
     "data": {
      "text/plain": [
       "'samosa'"
      ]
     },
     "execution_count": 51,
     "metadata": {},
     "output_type": "execute_result"
    }
   ],
   "source": [
    "bar"
   ]
  },
  {
   "cell_type": "code",
   "execution_count": 53,
   "id": "bb7a9340-7251-4acc-aa9c-a63e05649771",
   "metadata": {},
   "outputs": [
    {
     "data": {
      "text/plain": [
       "'jalebi'"
      ]
     },
     "execution_count": 53,
     "metadata": {},
     "output_type": "execute_result"
    }
   ],
   "source": [
    "foo"
   ]
  },
  {
   "cell_type": "code",
   "execution_count": 55,
   "id": "99aa22c6-c390-4350-a5b2-5d4a05f8215a",
   "metadata": {},
   "outputs": [
    {
     "data": {
      "text/plain": [
       "1200463265008"
      ]
     },
     "execution_count": 55,
     "metadata": {},
     "output_type": "execute_result"
    }
   ],
   "source": [
    "id(bar)"
   ]
  },
  {
   "cell_type": "code",
   "execution_count": 59,
   "id": "bfd168b2-7967-4500-938b-b79e113c075f",
   "metadata": {},
   "outputs": [
    {
     "ename": "SyntaxError",
     "evalue": "cannot assign to True (3091963775.py, line 1)",
     "output_type": "error",
     "traceback": [
      "\u001b[1;36m  Cell \u001b[1;32mIn[59], line 1\u001b[1;36m\u001b[0m\n\u001b[1;33m    True=5\u001b[0m\n\u001b[1;37m    ^\u001b[0m\n\u001b[1;31mSyntaxError\u001b[0m\u001b[1;31m:\u001b[0m cannot assign to True\n"
     ]
    }
   ],
   "source": [
    "True=5"
   ]
  },
  {
   "cell_type": "code",
   "execution_count": 61,
   "id": "3e6ef28c-4e00-4605-a19a-aaf0bdb5cadb",
   "metadata": {},
   "outputs": [
    {
     "ename": "SyntaxError",
     "evalue": "invalid syntax (1407022555.py, line 1)",
     "output_type": "error",
     "traceback": [
      "\u001b[1;36m  Cell \u001b[1;32mIn[61], line 1\u001b[1;36m\u001b[0m\n\u001b[1;33m    def = 'hello'\u001b[0m\n\u001b[1;37m        ^\u001b[0m\n\u001b[1;31mSyntaxError\u001b[0m\u001b[1;31m:\u001b[0m invalid syntax\n"
     ]
    }
   ],
   "source": [
    "def = 'hello'"
   ]
  },
  {
   "cell_type": "code",
   "execution_count": 63,
   "id": "515fa591-e2b5-4c18-9b65-5793604454bc",
   "metadata": {},
   "outputs": [
    {
     "ename": "NameError",
     "evalue": "name 'abc' is not defined",
     "output_type": "error",
     "traceback": [
      "\u001b[1;31m---------------------------------------------------------------------------\u001b[0m",
      "\u001b[1;31mNameError\u001b[0m                                 Traceback (most recent call last)",
      "Cell \u001b[1;32mIn[63], line 1\u001b[0m\n\u001b[1;32m----> 1\u001b[0m abc\u001b[38;5;241m^\u001b[39m\u001b[38;5;241m=\u001b[39m \u001b[38;5;241m6\u001b[39m\n",
      "\u001b[1;31mNameError\u001b[0m: name 'abc' is not defined"
     ]
    }
   ],
   "source": [
    "abc^= 6"
   ]
  },
  {
   "cell_type": "code",
   "execution_count": 65,
   "id": "1805842f-4d4d-4455-be23-597af99588b0",
   "metadata": {},
   "outputs": [
    {
     "ename": "SyntaxError",
     "evalue": "invalid syntax (3962433919.py, line 1)",
     "output_type": "error",
     "traceback": [
      "\u001b[1;36m  Cell \u001b[1;32mIn[65], line 1\u001b[1;36m\u001b[0m\n\u001b[1;33m    $name = 'rdgggd'\u001b[0m\n\u001b[1;37m    ^\u001b[0m\n\u001b[1;31mSyntaxError\u001b[0m\u001b[1;31m:\u001b[0m invalid syntax\n"
     ]
    }
   ],
   "source": [
    "$name = 'rdgggd'"
   ]
  },
  {
   "cell_type": "code",
   "execution_count": 67,
   "id": "d13e0d91-5188-46d1-bf3b-7cfc3377ac15",
   "metadata": {},
   "outputs": [
    {
     "ename": "SyntaxError",
     "evalue": "invalid decimal literal (2861664424.py, line 1)",
     "output_type": "error",
     "traceback": [
      "\u001b[1;36m  Cell \u001b[1;32mIn[67], line 1\u001b[1;36m\u001b[0m\n\u001b[1;33m    4pizza=100\u001b[0m\n\u001b[1;37m    ^\u001b[0m\n\u001b[1;31mSyntaxError\u001b[0m\u001b[1;31m:\u001b[0m invalid decimal literal\n"
     ]
    }
   ],
   "source": [
    "4pizza=100"
   ]
  },
  {
   "cell_type": "code",
   "execution_count": null,
   "id": "3b52320a-76fd-4e3c-8d49-3bd32af299cb",
   "metadata": {},
   "outputs": [],
   "source": []
  }
 ],
 "metadata": {
  "kernelspec": {
   "display_name": "Python 3 (ipykernel)",
   "language": "python",
   "name": "python3"
  },
  "language_info": {
   "codemirror_mode": {
    "name": "ipython",
    "version": 3
   },
   "file_extension": ".py",
   "mimetype": "text/x-python",
   "name": "python",
   "nbconvert_exporter": "python",
   "pygments_lexer": "ipython3",
   "version": "3.12.4"
  }
 },
 "nbformat": 4,
 "nbformat_minor": 5
}
